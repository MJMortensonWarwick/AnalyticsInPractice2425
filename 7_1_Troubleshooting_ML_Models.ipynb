{
  "nbformat": 4,
  "nbformat_minor": 0,
  "metadata": {
    "colab": {
      "provenance": [],
      "authorship_tag": "ABX9TyNTnBgplk28nG+q52RzDn47",
      "include_colab_link": true
    },
    "kernelspec": {
      "name": "python3",
      "display_name": "Python 3"
    },
    "language_info": {
      "name": "python"
    }
  },
  "cells": [
    {
      "cell_type": "markdown",
      "metadata": {
        "id": "view-in-github",
        "colab_type": "text"
      },
      "source": [
        "<a href=\"https://colab.research.google.com/github/MJMortensonWarwick/AnalyticsInPractice2425/blob/main/7_1_Troubleshooting_ML_Models.ipynb\" target=\"_parent\"><img src=\"https://colab.research.google.com/assets/colab-badge.svg\" alt=\"Open In Colab\"/></a>"
      ]
    },
    {
      "cell_type": "markdown",
      "source": [
        "# Troubleshooting ML Models\n",
        "This Notebook will go over some common issues in ML models and how they can be addressed. We'll start with a classic ...\n",
        "\n",
        "## Over- and Under-fitting\n",
        "To demonstrate, we'll work with the dataset from the last few weeks (week 5 in my.wbs):"
      ],
      "metadata": {
        "id": "E4wPrAuXZ_xV"
      }
    },
    {
      "cell_type": "code",
      "execution_count": 1,
      "metadata": {
        "colab": {
          "base_uri": "https://localhost:8080/",
          "height": 73
        },
        "id": "3EraK9ABZ2v1",
        "outputId": "50c408e0-b0a5-4469-a7b0-241acdd8964a"
      },
      "outputs": [
        {
          "output_type": "display_data",
          "data": {
            "text/plain": [
              "<IPython.core.display.HTML object>"
            ],
            "text/html": [
              "\n",
              "     <input type=\"file\" id=\"files-cefbd1c4-d1e1-43dd-b40f-18d875d05155\" name=\"files[]\" multiple disabled\n",
              "        style=\"border:none\" />\n",
              "     <output id=\"result-cefbd1c4-d1e1-43dd-b40f-18d875d05155\">\n",
              "      Upload widget is only available when the cell has been executed in the\n",
              "      current browser session. Please rerun this cell to enable.\n",
              "      </output>\n",
              "      <script>// Copyright 2017 Google LLC\n",
              "//\n",
              "// Licensed under the Apache License, Version 2.0 (the \"License\");\n",
              "// you may not use this file except in compliance with the License.\n",
              "// You may obtain a copy of the License at\n",
              "//\n",
              "//      http://www.apache.org/licenses/LICENSE-2.0\n",
              "//\n",
              "// Unless required by applicable law or agreed to in writing, software\n",
              "// distributed under the License is distributed on an \"AS IS\" BASIS,\n",
              "// WITHOUT WARRANTIES OR CONDITIONS OF ANY KIND, either express or implied.\n",
              "// See the License for the specific language governing permissions and\n",
              "// limitations under the License.\n",
              "\n",
              "/**\n",
              " * @fileoverview Helpers for google.colab Python module.\n",
              " */\n",
              "(function(scope) {\n",
              "function span(text, styleAttributes = {}) {\n",
              "  const element = document.createElement('span');\n",
              "  element.textContent = text;\n",
              "  for (const key of Object.keys(styleAttributes)) {\n",
              "    element.style[key] = styleAttributes[key];\n",
              "  }\n",
              "  return element;\n",
              "}\n",
              "\n",
              "// Max number of bytes which will be uploaded at a time.\n",
              "const MAX_PAYLOAD_SIZE = 100 * 1024;\n",
              "\n",
              "function _uploadFiles(inputId, outputId) {\n",
              "  const steps = uploadFilesStep(inputId, outputId);\n",
              "  const outputElement = document.getElementById(outputId);\n",
              "  // Cache steps on the outputElement to make it available for the next call\n",
              "  // to uploadFilesContinue from Python.\n",
              "  outputElement.steps = steps;\n",
              "\n",
              "  return _uploadFilesContinue(outputId);\n",
              "}\n",
              "\n",
              "// This is roughly an async generator (not supported in the browser yet),\n",
              "// where there are multiple asynchronous steps and the Python side is going\n",
              "// to poll for completion of each step.\n",
              "// This uses a Promise to block the python side on completion of each step,\n",
              "// then passes the result of the previous step as the input to the next step.\n",
              "function _uploadFilesContinue(outputId) {\n",
              "  const outputElement = document.getElementById(outputId);\n",
              "  const steps = outputElement.steps;\n",
              "\n",
              "  const next = steps.next(outputElement.lastPromiseValue);\n",
              "  return Promise.resolve(next.value.promise).then((value) => {\n",
              "    // Cache the last promise value to make it available to the next\n",
              "    // step of the generator.\n",
              "    outputElement.lastPromiseValue = value;\n",
              "    return next.value.response;\n",
              "  });\n",
              "}\n",
              "\n",
              "/**\n",
              " * Generator function which is called between each async step of the upload\n",
              " * process.\n",
              " * @param {string} inputId Element ID of the input file picker element.\n",
              " * @param {string} outputId Element ID of the output display.\n",
              " * @return {!Iterable<!Object>} Iterable of next steps.\n",
              " */\n",
              "function* uploadFilesStep(inputId, outputId) {\n",
              "  const inputElement = document.getElementById(inputId);\n",
              "  inputElement.disabled = false;\n",
              "\n",
              "  const outputElement = document.getElementById(outputId);\n",
              "  outputElement.innerHTML = '';\n",
              "\n",
              "  const pickedPromise = new Promise((resolve) => {\n",
              "    inputElement.addEventListener('change', (e) => {\n",
              "      resolve(e.target.files);\n",
              "    });\n",
              "  });\n",
              "\n",
              "  const cancel = document.createElement('button');\n",
              "  inputElement.parentElement.appendChild(cancel);\n",
              "  cancel.textContent = 'Cancel upload';\n",
              "  const cancelPromise = new Promise((resolve) => {\n",
              "    cancel.onclick = () => {\n",
              "      resolve(null);\n",
              "    };\n",
              "  });\n",
              "\n",
              "  // Wait for the user to pick the files.\n",
              "  const files = yield {\n",
              "    promise: Promise.race([pickedPromise, cancelPromise]),\n",
              "    response: {\n",
              "      action: 'starting',\n",
              "    }\n",
              "  };\n",
              "\n",
              "  cancel.remove();\n",
              "\n",
              "  // Disable the input element since further picks are not allowed.\n",
              "  inputElement.disabled = true;\n",
              "\n",
              "  if (!files) {\n",
              "    return {\n",
              "      response: {\n",
              "        action: 'complete',\n",
              "      }\n",
              "    };\n",
              "  }\n",
              "\n",
              "  for (const file of files) {\n",
              "    const li = document.createElement('li');\n",
              "    li.append(span(file.name, {fontWeight: 'bold'}));\n",
              "    li.append(span(\n",
              "        `(${file.type || 'n/a'}) - ${file.size} bytes, ` +\n",
              "        `last modified: ${\n",
              "            file.lastModifiedDate ? file.lastModifiedDate.toLocaleDateString() :\n",
              "                                    'n/a'} - `));\n",
              "    const percent = span('0% done');\n",
              "    li.appendChild(percent);\n",
              "\n",
              "    outputElement.appendChild(li);\n",
              "\n",
              "    const fileDataPromise = new Promise((resolve) => {\n",
              "      const reader = new FileReader();\n",
              "      reader.onload = (e) => {\n",
              "        resolve(e.target.result);\n",
              "      };\n",
              "      reader.readAsArrayBuffer(file);\n",
              "    });\n",
              "    // Wait for the data to be ready.\n",
              "    let fileData = yield {\n",
              "      promise: fileDataPromise,\n",
              "      response: {\n",
              "        action: 'continue',\n",
              "      }\n",
              "    };\n",
              "\n",
              "    // Use a chunked sending to avoid message size limits. See b/62115660.\n",
              "    let position = 0;\n",
              "    do {\n",
              "      const length = Math.min(fileData.byteLength - position, MAX_PAYLOAD_SIZE);\n",
              "      const chunk = new Uint8Array(fileData, position, length);\n",
              "      position += length;\n",
              "\n",
              "      const base64 = btoa(String.fromCharCode.apply(null, chunk));\n",
              "      yield {\n",
              "        response: {\n",
              "          action: 'append',\n",
              "          file: file.name,\n",
              "          data: base64,\n",
              "        },\n",
              "      };\n",
              "\n",
              "      let percentDone = fileData.byteLength === 0 ?\n",
              "          100 :\n",
              "          Math.round((position / fileData.byteLength) * 100);\n",
              "      percent.textContent = `${percentDone}% done`;\n",
              "\n",
              "    } while (position < fileData.byteLength);\n",
              "  }\n",
              "\n",
              "  // All done.\n",
              "  yield {\n",
              "    response: {\n",
              "      action: 'complete',\n",
              "    }\n",
              "  };\n",
              "}\n",
              "\n",
              "scope.google = scope.google || {};\n",
              "scope.google.colab = scope.google.colab || {};\n",
              "scope.google.colab._files = {\n",
              "  _uploadFiles,\n",
              "  _uploadFilesContinue,\n",
              "};\n",
              "})(self);\n",
              "</script> "
            ]
          },
          "metadata": {}
        },
        {
          "output_type": "stream",
          "name": "stdout",
          "text": [
            "Saving credit_data_final.csv to credit_data_final.csv\n"
          ]
        }
      ],
      "source": [
        "from google.colab import files\n",
        "uploaded = files.upload()"
      ]
    },
    {
      "cell_type": "code",
      "source": [
        "import pandas as pd\n",
        "import numpy as np\n",
        "\n",
        "df = pd.read_csv('credit_data_final.csv')\n",
        "\n",
        "y_value = df['class'] # set the y\n",
        "y_values = np.ravel(y_value) # change to an array (list)\n",
        "\n",
        "x_values = df.drop('class', axis=1) # drop the y from the dataframe\n",
        "\n",
        "# split data into training and test\n",
        "from sklearn.model_selection  import train_test_split\n",
        "X_train, X_test, Y_train, Y_test = train_test_split(x_values, y_value, test_size = 0.2, random_state=4567, stratify=y_value)\n",
        "\n",
        "# print the shapes to check everything is OK\n",
        "print(X_train.shape)\n",
        "print(X_test.shape)\n",
        "print(Y_train.shape)\n",
        "print(Y_test.shape)"
      ],
      "metadata": {
        "colab": {
          "base_uri": "https://localhost:8080/"
        },
        "id": "ce7U1jrIAy8C",
        "outputId": "cafc63a2-8ed4-4b35-9d3f-a9182483beb0"
      },
      "execution_count": 2,
      "outputs": [
        {
          "output_type": "stream",
          "name": "stdout",
          "text": [
            "(800, 28)\n",
            "(200, 28)\n",
            "(800,)\n",
            "(200,)\n"
          ]
        }
      ]
    },
    {
      "cell_type": "markdown",
      "source": [
        "Now we will deliberately fit a terrible decision tree, setting their hyperparameters for minimum regularisation:"
      ],
      "metadata": {
        "id": "2JGoH2ZWA8vt"
      }
    },
    {
      "cell_type": "code",
      "source": [
        "from sklearn.tree import DecisionTreeClassifier as tree\n",
        "from sklearn.metrics import accuracy_score, precision_recall_fscore_support\n",
        "\n",
        "# specift algo and fit to data\n",
        "tree_algo = tree(min_samples_split=2, max_depth=None, min_samples_leaf=1, max_features=None)\n",
        "tree_model = tree_algo.fit(X_train, Y_train)\n",
        "\n",
        "# Predict the training data\n",
        "predict = tree_model.predict(X_train)\n",
        "\n",
        "# Calculate Accuracy\n",
        "accuracy = accuracy_score(Y_train, predict)\n",
        "print(f\"Accuracy: {accuracy}\")\n",
        "\n",
        "# Calculate precision, recall, and F1-score\n",
        "precision, recall, f1_score, _ = precision_recall_fscore_support(Y_train, predict, average='macro')\n",
        "print(f\"Macro Precision: {precision}\")\n",
        "print(f\"Macro Recall: {recall}\")\n",
        "print(f\"Macro F1-score: {f1_score}\")\n",
        "print(\"\\n\")"
      ],
      "metadata": {
        "colab": {
          "base_uri": "https://localhost:8080/"
        },
        "id": "6z3tXaRHBK8M",
        "outputId": "59e71d88-6d3a-4162-bc0b-f6627739f94b"
      },
      "execution_count": 3,
      "outputs": [
        {
          "output_type": "stream",
          "name": "stdout",
          "text": [
            "Accuracy: 1.0\n",
            "Macro Precision: 1.0\n",
            "Macro Recall: 1.0\n",
            "Macro F1-score: 1.0\n",
            "\n",
            "\n"
          ]
        }
      ]
    },
    {
      "cell_type": "markdown",
      "source": [
        "Fantastic! Our model looks perfect :)\n",
        "\n",
        "Or is it ..."
      ],
      "metadata": {
        "id": "uLmQYYmqCCZp"
      }
    },
    {
      "cell_type": "code",
      "source": [
        "# Predict the test data\n",
        "predict = tree_model.predict(X_test)\n",
        "\n",
        "# Calculate Accuracy\n",
        "accuracy = accuracy_score(Y_test, predict)\n",
        "print(f\"Accuracy: {accuracy}\")\n",
        "\n",
        "# Calculate precision, recall, and F1-score\n",
        "precision, recall, f1_score, _ = precision_recall_fscore_support(Y_test, predict, average='macro')\n",
        "print(f\"Macro Precision: {precision}\")\n",
        "print(f\"Macro Recall: {recall}\")\n",
        "print(f\"Macro F1-score: {f1_score}\")\n",
        "print(\"\\n\")"
      ],
      "metadata": {
        "colab": {
          "base_uri": "https://localhost:8080/"
        },
        "id": "vy6MIgPvCH_v",
        "outputId": "421fbf91-413b-4f57-e5f2-dc35c7069ee6"
      },
      "execution_count": 4,
      "outputs": [
        {
          "output_type": "stream",
          "name": "stdout",
          "text": [
            "Accuracy: 0.645\n",
            "Macro Precision: 0.591824316849209\n",
            "Macro Recall: 0.5988095238095238\n",
            "Macro F1-score: 0.593809891587288\n",
            "\n",
            "\n"
          ]
        }
      ]
    },
    {
      "cell_type": "markdown",
      "source": [
        "This is the classical indication of overfitting. Our training scores are perfect (or very good) but our testing scores are very poor.\n",
        "\n",
        "But how about detecting the opposite? Let's respecify the algorithm:"
      ],
      "metadata": {
        "id": "GK_T8kvHCWj2"
      }
    },
    {
      "cell_type": "code",
      "source": [
        "from sklearn.tree import DecisionTreeClassifier as tree\n",
        "from sklearn.metrics import accuracy_score, precision_recall_fscore_support\n",
        "\n",
        "# specift algo and fit to data\n",
        "tree_algo = tree(min_samples_split=10, max_depth=2, max_features='sqrt')\n",
        "tree_model = tree_algo.fit(X_train, Y_train)"
      ],
      "metadata": {
        "id": "v5OqR2RVCm86"
      },
      "execution_count": 5,
      "outputs": []
    },
    {
      "cell_type": "markdown",
      "source": [
        "Now we have very strict regularisation (most notably _max\\_depth=2_ ). Let's see how it performs on training:"
      ],
      "metadata": {
        "id": "BFONHwn7Cuts"
      }
    },
    {
      "cell_type": "code",
      "source": [
        "# Predict the training data\n",
        "predict = tree_model.predict(X_train)\n",
        "\n",
        "# Calculate Accuracy\n",
        "accuracy = accuracy_score(Y_train, predict)\n",
        "print(f\"Accuracy: {accuracy}\")\n",
        "\n",
        "# Calculate precision, recall, and F1-score\n",
        "precision, recall, f1_score, _ = precision_recall_fscore_support(Y_train, predict, average='macro')\n",
        "print(f\"Macro Precision: {precision}\")\n",
        "print(f\"Macro Recall: {recall}\")\n",
        "print(f\"Macro F1-score: {f1_score}\")\n",
        "print(\"\\n\")"
      ],
      "metadata": {
        "colab": {
          "base_uri": "https://localhost:8080/"
        },
        "id": "91jno0LIC4x-",
        "outputId": "1332280c-ce06-4254-c103-6a7476629fd5"
      },
      "execution_count": 6,
      "outputs": [
        {
          "output_type": "stream",
          "name": "stdout",
          "text": [
            "Accuracy: 0.70375\n",
            "Macro Precision: 0.6300325081270317\n",
            "Macro Recall: 0.5967261904761905\n",
            "Macro F1-score: 0.6016597510373445\n",
            "\n",
            "\n"
          ]
        }
      ]
    },
    {
      "cell_type": "markdown",
      "source": [
        "Much lower metrics. This in itself is a good indicator of underfitting - that the numbers aren't great even on training data. However, this is problem specific, we don't necessarily know how good we can get (if we were ideally fitting). We can get another clue from the testing performance though:"
      ],
      "metadata": {
        "id": "z7YJR-3sC7Z9"
      }
    },
    {
      "cell_type": "code",
      "source": [
        "# Predict the test data\n",
        "predict = tree_model.predict(X_test)\n",
        "\n",
        "# Calculate Accuracy\n",
        "accuracy = accuracy_score(Y_test, predict)\n",
        "print(f\"Accuracy: {accuracy}\")\n",
        "\n",
        "# Calculate precision, recall, and F1-score\n",
        "precision, recall, f1_score, _ = precision_recall_fscore_support(Y_test, predict, average='macro')\n",
        "print(f\"Macro Precision: {precision}\")\n",
        "print(f\"Macro Recall: {recall}\")\n",
        "print(f\"Macro F1-score: {f1_score}\")\n",
        "print(\"\\n\")"
      ],
      "metadata": {
        "colab": {
          "base_uri": "https://localhost:8080/"
        },
        "id": "xbLrRpwvDMMW",
        "outputId": "2a13b872-9b98-4725-8e87-43909c73487b"
      },
      "execution_count": 7,
      "outputs": [
        {
          "output_type": "stream",
          "name": "stdout",
          "text": [
            "Accuracy: 0.7\n",
            "Macro Precision: 0.6265822784810127\n",
            "Macro Recall: 0.6\n",
            "Macro F1-score: 0.6052112120015791\n",
            "\n",
            "\n"
          ]
        }
      ]
    },
    {
      "cell_type": "markdown",
      "source": [
        "Most metrics are very, very close in training and testing. This can indicate we have under-fitted.\n",
        "\n",
        "Also telling can be the confusion matrix:"
      ],
      "metadata": {
        "id": "Dg2F3O13DTbf"
      }
    },
    {
      "cell_type": "code",
      "source": [
        "from sklearn.metrics import ConfusionMatrixDisplay as CM\n",
        "\n",
        "print(\"Decision Tree Confusion Matrix\")\n",
        "predict = tree_model.predict(X_test)\n",
        "CM.from_predictions(Y_test, predict)"
      ],
      "metadata": {
        "colab": {
          "base_uri": "https://localhost:8080/",
          "height": 484
        },
        "id": "uXYa4uO8Dn2C",
        "outputId": "3a1dbbb3-2e17-42a9-ecba-96723e57b000"
      },
      "execution_count": 8,
      "outputs": [
        {
          "output_type": "stream",
          "name": "stdout",
          "text": [
            "Decision Tree Confusion Matrix\n"
          ]
        },
        {
          "output_type": "execute_result",
          "data": {
            "text/plain": [
              "<sklearn.metrics._plot.confusion_matrix.ConfusionMatrixDisplay at 0x7edde0e264d0>"
            ]
          },
          "metadata": {},
          "execution_count": 8
        },
        {
          "output_type": "display_data",
          "data": {
            "text/plain": [
              "<Figure size 640x480 with 2 Axes>"
            ],
            "image/png": "[encoded data removed]"
          },
          "metadata": {}
        }
      ]
    },
    {
      "cell_type": "markdown",
      "source": [
        "We can see here the tree slightly underpredicts class 1. There are 60 examples in test but we only predict 42. This is not a particularly extreme example, but indeed any time we see part of the problem underpredicted this can suggest we haven't learned enough 'rules' to correctly manage the problem."
      ],
      "metadata": {
        "id": "zroMSIbfDuKw"
      }
    },
    {
      "cell_type": "markdown",
      "source": [
        "## Class Imbalance\n",
        "Another cause of both issues in the modeling and lower performance scores can be class imbalance. Often in the online tutorials you get perfectly balanced datasets. In many real-world domains though the opposite can be true. Consider examples like disease prediction, fraud detection or academic misconduct ... fortunately these are often relatively rare events and we would expect to find many more class 0's than class 1's.\n",
        "\n",
        "Let's replicate this with some fake data:"
      ],
      "metadata": {
        "id": "-1h2y5cCEhMz"
      }
    },
    {
      "cell_type": "code",
      "source": [
        "# adapted from https://scikit-learn.org/dev/datasets/sample_generators.html#sample-generators\n",
        "import matplotlib.pyplot as plt\n",
        "from sklearn.datasets import make_moons\n",
        "\n",
        "# create a plot of the data\n",
        "fig, ax = plt.subplots(nrows=1, ncols=1, figsize=(8, 4))\n",
        "\n",
        "# create the data\n",
        "X, Y = make_moons(n_samples=800, noise=0.3, random_state=123)\n",
        "\n",
        "# plot the artificial data\n",
        "ax.scatter(X[:, 0], X[:, 1], c=Y)\n",
        "ax.set_title(\"Two Class - Artificial Data\")\n",
        "\n",
        "plt.tight_layout()\n",
        "plt.show()"
      ],
      "metadata": {
        "colab": {
          "base_uri": "https://localhost:8080/",
          "height": 407
        },
        "id": "JWoRp2jPFB_w",
        "outputId": "db089195-8040-4276-9444-dfd883420417"
      },
      "execution_count": 9,
      "outputs": [
        {
          "output_type": "display_data",
          "data": {
            "text/plain": [
              "<Figure size 800x400 with 1 Axes>"
            ],
            "image/png": "[encoded data removed]"
          },
          "metadata": {}
        }
      ]
    },
    {
      "cell_type": "markdown",
      "source": [
        "We can also have a look at the data using pandas:"
      ],
      "metadata": {
        "id": "pfTVDEhvGS4F"
      }
    },
    {
      "cell_type": "code",
      "source": [
        "moons_data = pd.DataFrame(X)\n",
        "moons_data['class'] = Y\n",
        "moons_data.head()"
      ],
      "metadata": {
        "colab": {
          "base_uri": "https://localhost:8080/",
          "height": 206
        },
        "id": "eSM0PYh2GWnX",
        "outputId": "539f2309-5a02-46d7-f3aa-dbe5aa98cb06"
      },
      "execution_count": 10,
      "outputs": [
        {
          "output_type": "execute_result",
          "data": {
            "text/plain": [
              "          0         1  class\n",
              "0  0.692236  0.811689      0\n",
              "1  1.204024 -0.331594      1\n",
              "2 -0.486883  0.857528      0\n",
              "3 -0.397174  1.172754      0\n",
              "4  0.052909  1.403577      0"
            ],
            "text/html": [
              "\n",
              "  <div id=\"df-453638e3-25dd-4945-ad10-5942413d66b6\" class=\"colab-df-container\">\n",
              "    <div>\n",
              "<style scoped>\n",
              "    .dataframe tbody tr th:only-of-type {\n",
              "        vertical-align: middle;\n",
              "    }\n",
              "\n",
              "    .dataframe tbody tr th {\n",
              "        vertical-align: top;\n",
              "    }\n",
              "\n",
              "    .dataframe thead th {\n",
              "        text-align: right;\n",
              "    }\n",
              "</style>\n",
              "<table border=\"1\" class=\"dataframe\">\n",
              "  <thead>\n",
              "    <tr style=\"text-align: right;\">\n",
              "      <th></th>\n",
              "      <th>0</th>\n",
              "      <th>1</th>\n",
              "      <th>class</th>\n",
              "    </tr>\n",
              "  </thead>\n",
              "  <tbody>\n",
              "    <tr>\n",
              "      <th>0</th>\n",
              "      <td>0.692236</td>\n",
              "      <td>0.811689</td>\n",
              "      <td>0</td>\n",
              "    </tr>\n",
              "    <tr>\n",
              "      <th>1</th>\n",
              "      <td>1.204024</td>\n",
              "      <td>-0.331594</td>\n",
              "      <td>1</td>\n",
              "    </tr>\n",
              "    <tr>\n",
              "      <th>2</th>\n",
              "      <td>-0.486883</td>\n",
              "      <td>0.857528</td>\n",
              "      <td>0</td>\n",
              "    </tr>\n",
              "    <tr>\n",
              "      <th>3</th>\n",
              "      <td>-0.397174</td>\n",
              "      <td>1.172754</td>\n",
              "      <td>0</td>\n",
              "    </tr>\n",
              "    <tr>\n",
              "      <th>4</th>\n",
              "      <td>0.052909</td>\n",
              "      <td>1.403577</td>\n",
              "      <td>0</td>\n",
              "    </tr>\n",
              "  </tbody>\n",
              "</table>\n",
              "</div>\n",
              "    <div class=\"colab-df-buttons\">\n",
              "\n",
              "  <div class=\"colab-df-container\">\n",
              "    <button class=\"colab-df-convert\" onclick=\"convertToInteractive('df-453638e3-25dd-4945-ad10-5942413d66b6')\"\n",
              "            title=\"Convert this dataframe to an interactive table.\"\n",
              "            style=\"display:none;\">\n",
              "\n",
              "  <svg xmlns=\"http://www.w3.org/2000/svg\" height=\"24px\" viewBox=\"0 -960 960 960\">\n",
              "    <path d=\"M120-120v-720h720v720H120Zm60-500h600v-160H180v160Zm220 220h160v-160H400v160Zm0 220h160v-160H400v160ZM180-400h160v-160H180v160Zm440 0h160v-160H620v160ZM180-180h160v-160H180v160Zm440 0h160v-160H620v160Z\"/>\n",
              "  </svg>\n",
              "    </button>\n",
              "\n",
              "  <style>\n",
              "    .colab-df-container {\n",
              "      display:flex;\n",
              "      gap: 12px;\n",
              "    }\n",
              "\n",
              "    .colab-df-convert {\n",
              "      background-color: #E8F0FE;\n",
              "      border: none;\n",
              "      border-radius: 50%;\n",
              "      cursor: pointer;\n",
              "      display: none;\n",
              "      fill: #1967D2;\n",
              "      height: 32px;\n",
              "      padding: 0 0 0 0;\n",
              "      width: 32px;\n",
              "    }\n",
              "\n",
              "    .colab-df-convert:hover {\n",
              "      background-color: #E2EBFA;\n",
              "      box-shadow: 0px 1px 2px rgba(60, 64, 67, 0.3), 0px 1px 3px 1px rgba(60, 64, 67, 0.15);\n",
              "      fill: #174EA6;\n",
              "    }\n",
              "\n",
              "    .colab-df-buttons div {\n",
              "      margin-bottom: 4px;\n",
              "    }\n",
              "\n",
              "    [theme=dark] .colab-df-convert {\n",
              "      background-color: #3B4455;\n",
              "      fill: #D2E3FC;\n",
              "    }\n",
              "\n",
              "    [theme=dark] .colab-df-convert:hover {\n",
              "      background-color: #434B5C;\n",
              "      box-shadow: 0px 1px 3px 1px rgba(0, 0, 0, 0.15);\n",
              "      filter: drop-shadow(0px 1px 2px rgba(0, 0, 0, 0.3));\n",
              "      fill: #FFFFFF;\n",
              "    }\n",
              "  </style>\n",
              "\n",
              "    <script>\n",
              "      const buttonEl =\n",
              "        document.querySelector('#df-453638e3-25dd-4945-ad10-5942413d66b6 button.colab-df-convert');\n",
              "      buttonEl.style.display =\n",
              "        google.colab.kernel.accessAllowed ? 'block' : 'none';\n",
              "\n",
              "      async function convertToInteractive(key) {\n",
              "        const element = document.querySelector('#df-453638e3-25dd-4945-ad10-5942413d66b6');\n",
              "        const dataTable =\n",
              "          await google.colab.kernel.invokeFunction('convertToInteractive',\n",
              "                                                    [key], {});\n",
              "        if (!dataTable) return;\n",
              "\n",
              "        const docLinkHtml = 'Like what you see? Visit the ' +\n",
              "          '<a target=\"_blank\" href=https://colab.research.google.com/notebooks/data_table.ipynb>data table notebook</a>'\n",
              "          + ' to learn more about interactive tables.';\n",
              "        element.innerHTML = '';\n",
              "        dataTable['output_type'] = 'display_data';\n",
              "        await google.colab.output.renderOutput(dataTable, element);\n",
              "        const docLink = document.createElement('div');\n",
              "        docLink.innerHTML = docLinkHtml;\n",
              "        element.appendChild(docLink);\n",
              "      }\n",
              "    </script>\n",
              "  </div>\n",
              "\n",
              "\n",
              "<div id=\"df-002a0c71-55b9-464a-988d-6c5f9e9cb1b8\">\n",
              "  <button class=\"colab-df-quickchart\" onclick=\"quickchart('df-002a0c71-55b9-464a-988d-6c5f9e9cb1b8')\"\n",
              "            title=\"Suggest charts\"\n",
              "            style=\"display:none;\">\n",
              "\n",
              "<svg xmlns=\"http://www.w3.org/2000/svg\" height=\"24px\"viewBox=\"0 0 24 24\"\n",
              "     width=\"24px\">\n",
              "    <g>\n",
              "        <path d=\"M19 3H5c-1.1 0-2 .9-2 2v14c0 1.1.9 2 2 2h14c1.1 0 2-.9 2-2V5c0-1.1-.9-2-2-2zM9 17H7v-7h2v7zm4 0h-2V7h2v10zm4 0h-2v-4h2v4z\"/>\n",
              "    </g>\n",
              "</svg>\n",
              "  </button>\n",
              "\n",
              "<style>\n",
              "  .colab-df-quickchart {\n",
              "      --bg-color: #E8F0FE;\n",
              "      --fill-color: #1967D2;\n",
              "      --hover-bg-color: #E2EBFA;\n",
              "      --hover-fill-color: #174EA6;\n",
              "      --disabled-fill-color: #AAA;\n",
              "      --disabled-bg-color: #DDD;\n",
              "  }\n",
              "\n",
              "  [theme=dark] .colab-df-quickchart {\n",
              "      --bg-color: #3B4455;\n",
              "      --fill-color: #D2E3FC;\n",
              "      --hover-bg-color: #434B5C;\n",
              "      --hover-fill-color: #FFFFFF;\n",
              "      --disabled-bg-color: #3B4455;\n",
              "      --disabled-fill-color: #666;\n",
              "  }\n",
              "\n",
              "  .colab-df-quickchart {\n",
              "    background-color: var(--bg-color);\n",
              "    border: none;\n",
              "    border-radius: 50%;\n",
              "    cursor: pointer;\n",
              "    display: none;\n",
              "    fill: var(--fill-color);\n",
              "    height: 32px;\n",
              "    padding: 0;\n",
              "    width: 32px;\n",
              "  }\n",
              "\n",
              "  .colab-df-quickchart:hover {\n",
              "    background-color: var(--hover-bg-color);\n",
              "    box-shadow: 0 1px 2px rgba(60, 64, 67, 0.3), 0 1px 3px 1px rgba(60, 64, 67, 0.15);\n",
              "    fill: var(--button-hover-fill-color);\n",
              "  }\n",
              "\n",
              "  .colab-df-quickchart-complete:disabled,\n",
              "  .colab-df-quickchart-complete:disabled:hover {\n",
              "    background-color: var(--disabled-bg-color);\n",
              "    fill: var(--disabled-fill-color);\n",
              "    box-shadow: none;\n",
              "  }\n",
              "\n",
              "  .colab-df-spinner {\n",
              "    border: 2px solid var(--fill-color);\n",
              "    border-color: transparent;\n",
              "    border-bottom-color: var(--fill-color);\n",
              "    animation:\n",
              "      spin 1s steps(1) infinite;\n",
              "  }\n",
              "\n",
              "  @keyframes spin {\n",
              "    0% {\n",
              "      border-color: transparent;\n",
              "      border-bottom-color: var(--fill-color);\n",
              "      border-left-color: var(--fill-color);\n",
              "    }\n",
              "    20% {\n",
              "      border-color: transparent;\n",
              "      border-left-color: var(--fill-color);\n",
              "      border-top-color: var(--fill-color);\n",
              "    }\n",
              "    30% {\n",
              "      border-color: transparent;\n",
              "      border-left-color: var(--fill-color);\n",
              "      border-top-color: var(--fill-color);\n",
              "      border-right-color: var(--fill-color);\n",
              "    }\n",
              "    40% {\n",
              "      border-color: transparent;\n",
              "      border-right-color: var(--fill-color);\n",
              "      border-top-color: var(--fill-color);\n",
              "    }\n",
              "    60% {\n",
              "      border-color: transparent;\n",
              "      border-right-color: var(--fill-color);\n",
              "    }\n",
              "    80% {\n",
              "      border-color: transparent;\n",
              "      border-right-color: var(--fill-color);\n",
              "      border-bottom-color: var(--fill-color);\n",
              "    }\n",
              "    90% {\n",
              "      border-color: transparent;\n",
              "      border-bottom-color: var(--fill-color);\n",
              "    }\n",
              "  }\n",
              "</style>\n",
              "\n",
              "  <script>\n",
              "    async function quickchart(key) {\n",
              "      const quickchartButtonEl =\n",
              "        document.querySelector('#' + key + ' button');\n",
              "      quickchartButtonEl.disabled = true;  // To prevent multiple clicks.\n",
              "      quickchartButtonEl.classList.add('colab-df-spinner');\n",
              "      try {\n",
              "        const charts = await google.colab.kernel.invokeFunction(\n",
              "            'suggestCharts', [key], {});\n",
              "      } catch (error) {\n",
              "        console.error('Error during call to suggestCharts:', error);\n",
              "      }\n",
              "      quickchartButtonEl.classList.remove('colab-df-spinner');\n",
              "      quickchartButtonEl.classList.add('colab-df-quickchart-complete');\n",
              "    }\n",
              "    (() => {\n",
              "      let quickchartButtonEl =\n",
              "        document.querySelector('#df-002a0c71-55b9-464a-988d-6c5f9e9cb1b8 button');\n",
              "      quickchartButtonEl.style.display =\n",
              "        google.colab.kernel.accessAllowed ? 'block' : 'none';\n",
              "    })();\n",
              "  </script>\n",
              "</div>\n",
              "\n",
              "    </div>\n",
              "  </div>\n"
            ],
            "application/vnd.google.colaboratory.intrinsic+json": {
              "type": "dataframe",
              "variable_name": "moons_data",
              "summary": "{\n  \"name\": \"moons_data\",\n  \"rows\": 800,\n  \"fields\": [\n    {\n      \"column\": 0,\n      \"properties\": {\n        \"dtype\": \"number\",\n        \"std\": 0.9194665686750574,\n        \"min\": -1.5602727374746088,\n        \"max\": 2.5673754800748343,\n        \"num_unique_values\": 800,\n        \"samples\": [\n          -0.16595740659093397,\n          1.873777970134144,\n          0.582960284659806\n        ],\n        \"semantic_type\": \"\",\n        \"description\": \"\"\n      }\n    },\n    {\n      \"column\": 1,\n      \"properties\": {\n        \"dtype\": \"number\",\n        \"std\": 0.5919400812919215,\n        \"min\": -1.5997686780672318,\n        \"max\": 1.6346490015191653,\n        \"num_unique_values\": 800,\n        \"samples\": [\n          0.7375663411971364,\n          0.25003430027915047,\n          -0.18835828237860297\n        ],\n        \"semantic_type\": \"\",\n        \"description\": \"\"\n      }\n    },\n    {\n      \"column\": \"class\",\n      \"properties\": {\n        \"dtype\": \"number\",\n        \"std\": 0,\n        \"min\": 0,\n        \"max\": 1,\n        \"num_unique_values\": 2,\n        \"samples\": [\n          1,\n          0\n        ],\n        \"semantic_type\": \"\",\n        \"description\": \"\"\n      }\n    }\n  ]\n}"
            }
          },
          "metadata": {},
          "execution_count": 10
        }
      ]
    },
    {
      "cell_type": "markdown",
      "source": [
        "Now we are going to remove some of the class 1's to make the data imbalanced:"
      ],
      "metadata": {
        "id": "9N0ejYWJGkHf"
      }
    },
    {
      "cell_type": "code",
      "source": [
        "moon_zeros = moons_data[moons_data['class'] == 0]\n",
        "moon_ones = moons_data[moons_data['class'] == 1]\n",
        "\n",
        "# combine all the zeros and just 10 examples of class = 1\n",
        "new_moons_data = pd.concat([moon_zeros, moon_ones.sample(n=10)])\n",
        "new_moons_data.head()"
      ],
      "metadata": {
        "colab": {
          "base_uri": "https://localhost:8080/",
          "height": 206
        },
        "id": "nx7qiYrNGolF",
        "outputId": "9f322780-94d3-4c8f-95a0-e81ac1680e1b"
      },
      "execution_count": 11,
      "outputs": [
        {
          "output_type": "execute_result",
          "data": {
            "text/plain": [
              "          0         1  class\n",
              "0  0.692236  0.811689      0\n",
              "2 -0.486883  0.857528      0\n",
              "3 -0.397174  1.172754      0\n",
              "4  0.052909  1.403577      0\n",
              "5  0.180865  1.269539      0"
            ],
            "text/html": [
              "\n",
              "  <div id=\"df-475cda09-01e4-47af-9850-df67f3a94f72\" class=\"colab-df-container\">\n",
              "    <div>\n",
              "<style scoped>\n",
              "    .dataframe tbody tr th:only-of-type {\n",
              "        vertical-align: middle;\n",
              "    }\n",
              "\n",
              "    .dataframe tbody tr th {\n",
              "        vertical-align: top;\n",
              "    }\n",
              "\n",
              "    .dataframe thead th {\n",
              "        text-align: right;\n",
              "    }\n",
              "</style>\n",
              "<table border=\"1\" class=\"dataframe\">\n",
              "  <thead>\n",
              "    <tr style=\"text-align: right;\">\n",
              "      <th></th>\n",
              "      <th>0</th>\n",
              "      <th>1</th>\n",
              "      <th>class</th>\n",
              "    </tr>\n",
              "  </thead>\n",
              "  <tbody>\n",
              "    <tr>\n",
              "      <th>0</th>\n",
              "      <td>0.692236</td>\n",
              "      <td>0.811689</td>\n",
              "      <td>0</td>\n",
              "    </tr>\n",
              "    <tr>\n",
              "      <th>2</th>\n",
              "      <td>-0.486883</td>\n",
              "      <td>0.857528</td>\n",
              "      <td>0</td>\n",
              "    </tr>\n",
              "    <tr>\n",
              "      <th>3</th>\n",
              "      <td>-0.397174</td>\n",
              "      <td>1.172754</td>\n",
              "      <td>0</td>\n",
              "    </tr>\n",
              "    <tr>\n",
              "      <th>4</th>\n",
              "      <td>0.052909</td>\n",
              "      <td>1.403577</td>\n",
              "      <td>0</td>\n",
              "    </tr>\n",
              "    <tr>\n",
              "      <th>5</th>\n",
              "      <td>0.180865</td>\n",
              "      <td>1.269539</td>\n",
              "      <td>0</td>\n",
              "    </tr>\n",
              "  </tbody>\n",
              "</table>\n",
              "</div>\n",
              "    <div class=\"colab-df-buttons\">\n",
              "\n",
              "  <div class=\"colab-df-container\">\n",
              "    <button class=\"colab-df-convert\" onclick=\"convertToInteractive('df-475cda09-01e4-47af-9850-df67f3a94f72')\"\n",
              "            title=\"Convert this dataframe to an interactive table.\"\n",
              "            style=\"display:none;\">\n",
              "\n",
              "  <svg xmlns=\"http://www.w3.org/2000/svg\" height=\"24px\" viewBox=\"0 -960 960 960\">\n",
              "    <path d=\"M120-120v-720h720v720H120Zm60-500h600v-160H180v160Zm220 220h160v-160H400v160Zm0 220h160v-160H400v160ZM180-400h160v-160H180v160Zm440 0h160v-160H620v160ZM180-180h160v-160H180v160Zm440 0h160v-160H620v160Z\"/>\n",
              "  </svg>\n",
              "    </button>\n",
              "\n",
              "  <style>\n",
              "    .colab-df-container {\n",
              "      display:flex;\n",
              "      gap: 12px;\n",
              "    }\n",
              "\n",
              "    .colab-df-convert {\n",
              "      background-color: #E8F0FE;\n",
              "      border: none;\n",
              "      border-radius: 50%;\n",
              "      cursor: pointer;\n",
              "      display: none;\n",
              "      fill: #1967D2;\n",
              "      height: 32px;\n",
              "      padding: 0 0 0 0;\n",
              "      width: 32px;\n",
              "    }\n",
              "\n",
              "    .colab-df-convert:hover {\n",
              "      background-color: #E2EBFA;\n",
              "      box-shadow: 0px 1px 2px rgba(60, 64, 67, 0.3), 0px 1px 3px 1px rgba(60, 64, 67, 0.15);\n",
              "      fill: #174EA6;\n",
              "    }\n",
              "\n",
              "    .colab-df-buttons div {\n",
              "      margin-bottom: 4px;\n",
              "    }\n",
              "\n",
              "    [theme=dark] .colab-df-convert {\n",
              "      background-color: #3B4455;\n",
              "      fill: #D2E3FC;\n",
              "    }\n",
              "\n",
              "    [theme=dark] .colab-df-convert:hover {\n",
              "      background-color: #434B5C;\n",
              "      box-shadow: 0px 1px 3px 1px rgba(0, 0, 0, 0.15);\n",
              "      filter: drop-shadow(0px 1px 2px rgba(0, 0, 0, 0.3));\n",
              "      fill: #FFFFFF;\n",
              "    }\n",
              "  </style>\n",
              "\n",
              "    <script>\n",
              "      const buttonEl =\n",
              "        document.querySelector('#df-475cda09-01e4-47af-9850-df67f3a94f72 button.colab-df-convert');\n",
              "      buttonEl.style.display =\n",
              "        google.colab.kernel.accessAllowed ? 'block' : 'none';\n",
              "\n",
              "      async function convertToInteractive(key) {\n",
              "        const element = document.querySelector('#df-475cda09-01e4-47af-9850-df67f3a94f72');\n",
              "        const dataTable =\n",
              "          await google.colab.kernel.invokeFunction('convertToInteractive',\n",
              "                                                    [key], {});\n",
              "        if (!dataTable) return;\n",
              "\n",
              "        const docLinkHtml = 'Like what you see? Visit the ' +\n",
              "          '<a target=\"_blank\" href=https://colab.research.google.com/notebooks/data_table.ipynb>data table notebook</a>'\n",
              "          + ' to learn more about interactive tables.';\n",
              "        element.innerHTML = '';\n",
              "        dataTable['output_type'] = 'display_data';\n",
              "        await google.colab.output.renderOutput(dataTable, element);\n",
              "        const docLink = document.createElement('div');\n",
              "        docLink.innerHTML = docLinkHtml;\n",
              "        element.appendChild(docLink);\n",
              "      }\n",
              "    </script>\n",
              "  </div>\n",
              "\n",
              "\n",
              "<div id=\"df-43729f47-3de5-4913-9608-e51d61d0c4d3\">\n",
              "  <button class=\"colab-df-quickchart\" onclick=\"quickchart('df-43729f47-3de5-4913-9608-e51d61d0c4d3')\"\n",
              "            title=\"Suggest charts\"\n",
              "            style=\"display:none;\">\n",
              "\n",
              "<svg xmlns=\"http://www.w3.org/2000/svg\" height=\"24px\"viewBox=\"0 0 24 24\"\n",
              "     width=\"24px\">\n",
              "    <g>\n",
              "        <path d=\"M19 3H5c-1.1 0-2 .9-2 2v14c0 1.1.9 2 2 2h14c1.1 0 2-.9 2-2V5c0-1.1-.9-2-2-2zM9 17H7v-7h2v7zm4 0h-2V7h2v10zm4 0h-2v-4h2v4z\"/>\n",
              "    </g>\n",
              "</svg>\n",
              "  </button>\n",
              "\n",
              "<style>\n",
              "  .colab-df-quickchart {\n",
              "      --bg-color: #E8F0FE;\n",
              "      --fill-color: #1967D2;\n",
              "      --hover-bg-color: #E2EBFA;\n",
              "      --hover-fill-color: #174EA6;\n",
              "      --disabled-fill-color: #AAA;\n",
              "      --disabled-bg-color: #DDD;\n",
              "  }\n",
              "\n",
              "  [theme=dark] .colab-df-quickchart {\n",
              "      --bg-color: #3B4455;\n",
              "      --fill-color: #D2E3FC;\n",
              "      --hover-bg-color: #434B5C;\n",
              "      --hover-fill-color: #FFFFFF;\n",
              "      --disabled-bg-color: #3B4455;\n",
              "      --disabled-fill-color: #666;\n",
              "  }\n",
              "\n",
              "  .colab-df-quickchart {\n",
              "    background-color: var(--bg-color);\n",
              "    border: none;\n",
              "    border-radius: 50%;\n",
              "    cursor: pointer;\n",
              "    display: none;\n",
              "    fill: var(--fill-color);\n",
              "    height: 32px;\n",
              "    padding: 0;\n",
              "    width: 32px;\n",
              "  }\n",
              "\n",
              "  .colab-df-quickchart:hover {\n",
              "    background-color: var(--hover-bg-color);\n",
              "    box-shadow: 0 1px 2px rgba(60, 64, 67, 0.3), 0 1px 3px 1px rgba(60, 64, 67, 0.15);\n",
              "    fill: var(--button-hover-fill-color);\n",
              "  }\n",
              "\n",
              "  .colab-df-quickchart-complete:disabled,\n",
              "  .colab-df-quickchart-complete:disabled:hover {\n",
              "    background-color: var(--disabled-bg-color);\n",
              "    fill: var(--disabled-fill-color);\n",
              "    box-shadow: none;\n",
              "  }\n",
              "\n",
              "  .colab-df-spinner {\n",
              "    border: 2px solid var(--fill-color);\n",
              "    border-color: transparent;\n",
              "    border-bottom-color: var(--fill-color);\n",
              "    animation:\n",
              "      spin 1s steps(1) infinite;\n",
              "  }\n",
              "\n",
              "  @keyframes spin {\n",
              "    0% {\n",
              "      border-color: transparent;\n",
              "      border-bottom-color: var(--fill-color);\n",
              "      border-left-color: var(--fill-color);\n",
              "    }\n",
              "    20% {\n",
              "      border-color: transparent;\n",
              "      border-left-color: var(--fill-color);\n",
              "      border-top-color: var(--fill-color);\n",
              "    }\n",
              "    30% {\n",
              "      border-color: transparent;\n",
              "      border-left-color: var(--fill-color);\n",
              "      border-top-color: var(--fill-color);\n",
              "      border-right-color: var(--fill-color);\n",
              "    }\n",
              "    40% {\n",
              "      border-color: transparent;\n",
              "      border-right-color: var(--fill-color);\n",
              "      border-top-color: var(--fill-color);\n",
              "    }\n",
              "    60% {\n",
              "      border-color: transparent;\n",
              "      border-right-color: var(--fill-color);\n",
              "    }\n",
              "    80% {\n",
              "      border-color: transparent;\n",
              "      border-right-color: var(--fill-color);\n",
              "      border-bottom-color: var(--fill-color);\n",
              "    }\n",
              "    90% {\n",
              "      border-color: transparent;\n",
              "      border-bottom-color: var(--fill-color);\n",
              "    }\n",
              "  }\n",
              "</style>\n",
              "\n",
              "  <script>\n",
              "    async function quickchart(key) {\n",
              "      const quickchartButtonEl =\n",
              "        document.querySelector('#' + key + ' button');\n",
              "      quickchartButtonEl.disabled = true;  // To prevent multiple clicks.\n",
              "      quickchartButtonEl.classList.add('colab-df-spinner');\n",
              "      try {\n",
              "        const charts = await google.colab.kernel.invokeFunction(\n",
              "            'suggestCharts', [key], {});\n",
              "      } catch (error) {\n",
              "        console.error('Error during call to suggestCharts:', error);\n",
              "      }\n",
              "      quickchartButtonEl.classList.remove('colab-df-spinner');\n",
              "      quickchartButtonEl.classList.add('colab-df-quickchart-complete');\n",
              "    }\n",
              "    (() => {\n",
              "      let quickchartButtonEl =\n",
              "        document.querySelector('#df-43729f47-3de5-4913-9608-e51d61d0c4d3 button');\n",
              "      quickchartButtonEl.style.display =\n",
              "        google.colab.kernel.accessAllowed ? 'block' : 'none';\n",
              "    })();\n",
              "  </script>\n",
              "</div>\n",
              "\n",
              "    </div>\n",
              "  </div>\n"
            ],
            "application/vnd.google.colaboratory.intrinsic+json": {
              "type": "dataframe",
              "variable_name": "new_moons_data",
              "summary": "{\n  \"name\": \"new_moons_data\",\n  \"rows\": 410,\n  \"fields\": [\n    {\n      \"column\": 0,\n      \"properties\": {\n        \"dtype\": \"number\",\n        \"std\": 0.7861217656874957,\n        \"min\": -1.5602727374746088,\n        \"max\": 1.9754771466391008,\n        \"num_unique_values\": 410,\n        \"samples\": [\n          0.2671626978932522,\n          -0.8298351194595317,\n          -0.18610694507961068\n        ],\n        \"semantic_type\": \"\",\n        \"description\": \"\"\n      }\n    },\n    {\n      \"column\": 1,\n      \"properties\": {\n        \"dtype\": \"number\",\n        \"std\": 0.46101898624711873,\n        \"min\": -0.8259474364399795,\n        \"max\": 1.6346490015191653,\n        \"num_unique_values\": 410,\n        \"samples\": [\n          1.1294934676050796,\n          0.7278588448015211,\n          0.17686915633675315\n        ],\n        \"semantic_type\": \"\",\n        \"description\": \"\"\n      }\n    },\n    {\n      \"column\": \"class\",\n      \"properties\": {\n        \"dtype\": \"number\",\n        \"std\": 0,\n        \"min\": 0,\n        \"max\": 1,\n        \"num_unique_values\": 2,\n        \"samples\": [\n          1,\n          0\n        ],\n        \"semantic_type\": \"\",\n        \"description\": \"\"\n      }\n    }\n  ]\n}"
            }
          },
          "metadata": {},
          "execution_count": 11
        }
      ]
    },
    {
      "cell_type": "code",
      "source": [
        "# print how many of each class we have\n",
        "new_moons_data['class'].value_counts()"
      ],
      "metadata": {
        "colab": {
          "base_uri": "https://localhost:8080/",
          "height": 178
        },
        "id": "OdyKScb_G-IZ",
        "outputId": "c1ec1928-6550-471c-beed-4d905c5ca670"
      },
      "execution_count": 12,
      "outputs": [
        {
          "output_type": "execute_result",
          "data": {
            "text/plain": [
              "class\n",
              "0    400\n",
              "1     10\n",
              "Name: count, dtype: int64"
            ],
            "text/html": [
              "<div>\n",
              "<style scoped>\n",
              "    .dataframe tbody tr th:only-of-type {\n",
              "        vertical-align: middle;\n",
              "    }\n",
              "\n",
              "    .dataframe tbody tr th {\n",
              "        vertical-align: top;\n",
              "    }\n",
              "\n",
              "    .dataframe thead th {\n",
              "        text-align: right;\n",
              "    }\n",
              "</style>\n",
              "<table border=\"1\" class=\"dataframe\">\n",
              "  <thead>\n",
              "    <tr style=\"text-align: right;\">\n",
              "      <th></th>\n",
              "      <th>count</th>\n",
              "    </tr>\n",
              "    <tr>\n",
              "      <th>class</th>\n",
              "      <th></th>\n",
              "    </tr>\n",
              "  </thead>\n",
              "  <tbody>\n",
              "    <tr>\n",
              "      <th>0</th>\n",
              "      <td>400</td>\n",
              "    </tr>\n",
              "    <tr>\n",
              "      <th>1</th>\n",
              "      <td>10</td>\n",
              "    </tr>\n",
              "  </tbody>\n",
              "</table>\n",
              "</div><br><label><b>dtype:</b> int64</label>"
            ]
          },
          "metadata": {},
          "execution_count": 12
        }
      ]
    },
    {
      "cell_type": "markdown",
      "source": [
        "Let's fit a basic decision tree and check for performance:"
      ],
      "metadata": {
        "id": "JgLbG2TtHSJP"
      }
    },
    {
      "cell_type": "code",
      "source": [
        "# seperate x and y\n",
        "y_value = np.ravel(new_moons_data['class'])\n",
        "x_values = new_moons_data.drop('class', axis=1)\n",
        "\n",
        "# split data into training and test\n",
        "X_train, X_test, Y_train, Y_test = train_test_split(x_values, y_value, test_size = 0.2, random_state=4567, stratify=y_value)\n",
        "\n",
        "# decision tree - standard hyperparameters\n",
        "tree_algo = tree()\n",
        "tree_model = tree_algo.fit(X_train, Y_train)\n",
        "\n",
        "# Predict the test data\n",
        "predict = tree_model.predict(X_test)\n",
        "\n",
        "# Check accuracy on test data\n",
        "accuracy = accuracy_score(Y_test, predict)\n",
        "print(f\"Accuracy: {accuracy}\")"
      ],
      "metadata": {
        "colab": {
          "base_uri": "https://localhost:8080/"
        },
        "id": "HGvLLX5GIV8n",
        "outputId": "76b5db35-dbe5-4b1b-ce67-0499c46e9f9d"
      },
      "execution_count": 13,
      "outputs": [
        {
          "output_type": "stream",
          "name": "stdout",
          "text": [
            "Accuracy: 0.975609756097561\n"
          ]
        }
      ]
    },
    {
      "cell_type": "markdown",
      "source": [
        "So far, so good. 98% accuracy seems like a good model ... but is it?"
      ],
      "metadata": {
        "id": "AFqeJV1WIkko"
      }
    },
    {
      "cell_type": "code",
      "source": [
        "print(\"Decision Tree Confusion Matrix\")\n",
        "CM.from_predictions(Y_test, predict)"
      ],
      "metadata": {
        "colab": {
          "base_uri": "https://localhost:8080/",
          "height": 490
        },
        "id": "DsX7dUWNI0vP",
        "outputId": "1ca4eccb-8504-48da-841d-d8a695ed50bb"
      },
      "execution_count": 14,
      "outputs": [
        {
          "output_type": "stream",
          "name": "stdout",
          "text": [
            "Decision Tree Confusion Matrix\n"
          ]
        },
        {
          "output_type": "execute_result",
          "data": {
            "text/plain": [
              "<sklearn.metrics._plot.confusion_matrix.ConfusionMatrixDisplay at 0x7edda26cee90>"
            ]
          },
          "metadata": {},
          "execution_count": 14
        },
        {
          "output_type": "display_data",
          "data": {
            "text/plain": [
              "<Figure size 640x480 with 2 Axes>"
            ],
            "image/png": "[encoded data removed]"
          },
          "metadata": {}
        }
      ]
    },
    {
      "cell_type": "markdown",
      "source": [
        "While it looks like a good model from just accuracy, we can see that it never predicts class 1 at all I.e. its overall accuracy is 98%, its accuracy on just class 0 is 100%, but its accuracy on just class 1 is 0%.\n",
        "\n",
        "We can see full performance on class one using this code:\n",
        "\n"
      ],
      "metadata": {
        "id": "Pr-P0UnsJbNe"
      }
    },
    {
      "cell_type": "code",
      "source": [
        "# Calculate precision, recall, and F1-score\n",
        "precision, recall, f1_score, _ = precision_recall_fscore_support(Y_test, predict, average=None)\n",
        "\n",
        "# because each metric is now a list including class 0 and 1 we can specify\n",
        "# list item 0 ([0]) for class 0 and item 1 ([1]) for the other\n",
        "print(f\"Class 0 Precision: {precision[0]}\")\n",
        "print(f\"Class 0 Recall: {recall[0]}\")\n",
        "print(f\"Class 0 F1-score: {f1_score[0]}\")\n",
        "print(\"\\n\")\n",
        "print(f\"Class 1 Precision: {precision[1]}\")\n",
        "print(f\"Class 1 Recall: {recall[1]}\")\n",
        "print(f\"Class 1 F1-score: {f1_score[1]}\")"
      ],
      "metadata": {
        "colab": {
          "base_uri": "https://localhost:8080/"
        },
        "id": "Q95wqR1gKT84",
        "outputId": "0ece8f04-2164-4790-d71a-12b50a27e807"
      },
      "execution_count": 15,
      "outputs": [
        {
          "output_type": "stream",
          "name": "stdout",
          "text": [
            "Class 0 Precision: 0.975609756097561\n",
            "Class 0 Recall: 1.0\n",
            "Class 0 F1-score: 0.9876543209876543\n",
            "\n",
            "\n",
            "Class 1 Precision: 0.0\n",
            "Class 1 Recall: 0.0\n",
            "Class 1 F1-score: 0.0\n"
          ]
        },
        {
          "output_type": "stream",
          "name": "stderr",
          "text": [
            "/usr/local/lib/python3.10/dist-packages/sklearn/metrics/_classification.py:1531: UndefinedMetricWarning: Precision is ill-defined and being set to 0.0 in labels with no predicted samples. Use `zero_division` parameter to control this behavior.\n",
            "  _warn_prf(average, modifier, f\"{metric.capitalize()} is\", len(result))\n"
          ]
        }
      ]
    },
    {
      "cell_type": "markdown",
      "source": [
        "Now in many cases (discussed above) its this minority class that we really care about. Irrespective of the overall accuracy of 98%, or the performance in class 0, this 0% on class 1 may be a big problem. So how can we deal with it? (We will assume we have decided that recall is our main metric)."
      ],
      "metadata": {
        "id": "CoLlEIIZKTO0"
      }
    },
    {
      "cell_type": "markdown",
      "source": [
        "### OPTION ONE: Hyperparameter tune based on just minority class performance\n",
        "Here we can try tuning the algorithm based on performance on just class 1. Instead of using a \"macro recall\" metric we can have it use \"recall\" on just class 1:"
      ],
      "metadata": {
        "id": "xXTjSC5gKBX9"
      }
    },
    {
      "cell_type": "code",
      "source": [
        "from sklearn.model_selection import RandomizedSearchCV\n",
        "from scipy.stats import uniform, randint\n",
        "\n",
        "# this is the list of parameters we will tune. Some are fixed values some are distributions\n",
        "tuned_parameters = {\n",
        "    'criterion': ['gini', 'entropy'],\n",
        "    'max_depth': randint(3, 9),  # Draw from a uniform distribution between 3 and 15\n",
        "    'min_samples_split': randint(3, 9),  # Draw from a uniform distribution between 2 and 10\n",
        "    'max_features': ['sqrt', 'log2', None]\n",
        "}\n",
        "\n",
        "# we will specify recall based on class 1\n",
        "score = 'recall' # defaults to class 1\n",
        "\n",
        "print(f\"Tuning hyperparameters for {score}\")\n",
        "print(\"\\n\")\n",
        "\n",
        "# do the search using 5 folds/chunks\n",
        "clf = RandomizedSearchCV(tree(), tuned_parameters, cv=5, random_state=1984,\n",
        "                         scoring= score, n_iter=20, refit=True)\n",
        "\n",
        "# pass the data to fit/train\n",
        "clf.fit(X_train, Y_train)\n",
        "\n",
        "# create the model\n",
        "tree_algo = tree(**clf.best_params_)\n",
        "tree_model = tree_algo.fit(X_train, Y_train)\n",
        "\n",
        "# Predict the test data\n",
        "predict = tree_model.predict(X_test)\n",
        "\n",
        "# Calculate precision, recall, and F1-score\n",
        "precision, recall, f1_score, _ = precision_recall_fscore_support(Y_test, predict, average=None)\n",
        "\n",
        "# because each metric is now a list including class 0 and 1 we can specify\n",
        "# list item 0 ([0]) for class 0 and item 1 ([1]) for the other\n",
        "print(f\"Class 0 Precision: {precision[0]}\")\n",
        "print(f\"Class 0 Recall: {recall[0]}\")\n",
        "print(f\"Class 0 F1-score: {f1_score[0]}\")\n",
        "print(\"\\n\")\n",
        "print(f\"Class 1 Precision: {precision[1]}\")\n",
        "print(f\"Class 1 Recall: {recall[1]}\")\n",
        "print(f\"Class 1 F1-score: {f1_score[1]}\")"
      ],
      "metadata": {
        "colab": {
          "base_uri": "https://localhost:8080/"
        },
        "id": "qd79NcL_LhhZ",
        "outputId": "7942eba7-7c85-4100-85f3-8135d63a5307"
      },
      "execution_count": 16,
      "outputs": [
        {
          "output_type": "stream",
          "name": "stdout",
          "text": [
            "Tuning hyperparameters for recall\n",
            "\n",
            "\n",
            "Class 0 Precision: 0.975\n",
            "Class 0 Recall: 0.975\n",
            "Class 0 F1-score: 0.975\n",
            "\n",
            "\n",
            "Class 1 Precision: 0.0\n",
            "Class 1 Recall: 0.0\n",
            "Class 1 F1-score: 0.0\n"
          ]
        }
      ]
    },
    {
      "cell_type": "markdown",
      "source": [
        "Class 1 recall is still 0%. Let's see the confusion matrix to confirm:"
      ],
      "metadata": {
        "id": "GJfavo8fM2F6"
      }
    },
    {
      "cell_type": "code",
      "source": [
        "print(\"Decision Tree Confusion Matrix\")\n",
        "CM.from_predictions(Y_test, predict)"
      ],
      "metadata": {
        "colab": {
          "base_uri": "https://localhost:8080/",
          "height": 484
        },
        "id": "IOCpD3DoNAGg",
        "outputId": "e4fa7821-f091-44ea-e8f2-fdf30e40f4bb"
      },
      "execution_count": 17,
      "outputs": [
        {
          "output_type": "stream",
          "name": "stdout",
          "text": [
            "Decision Tree Confusion Matrix\n"
          ]
        },
        {
          "output_type": "execute_result",
          "data": {
            "text/plain": [
              "<sklearn.metrics._plot.confusion_matrix.ConfusionMatrixDisplay at 0x7edda2fa7160>"
            ]
          },
          "metadata": {},
          "execution_count": 17
        },
        {
          "output_type": "display_data",
          "data": {
            "text/plain": [
              "<Figure size 640x480 with 2 Axes>"
            ],
            "image/png": "[encoded data removed]"
          },
          "metadata": {}
        }
      ]
    },
    {
      "cell_type": "markdown",
      "source": [
        "While recall is still bad, we can see at least the model has tried to predict class 1.\n",
        "\n",
        "Let's look at another method:"
      ],
      "metadata": {
        "id": "O57Y-VvvNEx4"
      }
    },
    {
      "cell_type": "markdown",
      "source": [
        "# OPTION TWO: Biasing the decision threshold\n",
        "As we spoke about earlier in the module, the decision threshold on binary classification is standardly 0.5. That means our model only predicts class 1 if we have a probability of class 1 that is 50% or higher.\n",
        "\n",
        "However, if we know our model may struggle to predict class 1, or be reluctant to focus on this, why not make that threshold lower? Let's run again with the threshold automatically adjusted to the levels of class imbalance:"
      ],
      "metadata": {
        "id": "hhmlfbMYNVAT"
      }
    },
    {
      "cell_type": "code",
      "source": [
        "# decision tree - previous hyperparameters from random search plus adjusted threshold\n",
        "tree_algo = tree(**clf.best_params_, class_weight='balanced')\n",
        "tree_model = tree_algo.fit(X_train, Y_train)\n",
        "\n",
        "# Predict the test data\n",
        "predict = tree_model.predict(X_test)\n",
        "\n",
        "# Predict the test data\n",
        "predict = tree_model.predict(X_test)\n",
        "\n",
        "# Calculate precision, recall, and F1-score\n",
        "precision, recall, f1_score, _ = precision_recall_fscore_support(Y_test, predict, average=None)\n",
        "\n",
        "# because each metric is now a list including class 0 and 1 we can specify\n",
        "# list item 0 ([0]) for class 0 and item 1 ([1]) for the other\n",
        "print(f\"Class 0 Precision: {precision[0]}\")\n",
        "print(f\"Class 0 Recall: {recall[0]}\")\n",
        "print(f\"Class 0 F1-score: {f1_score[0]}\")\n",
        "print(\"\\n\")\n",
        "print(f\"Class 1 Precision: {precision[1]}\")\n",
        "print(f\"Class 1 Recall: {recall[1]}\")\n",
        "print(f\"Class 1 F1-score: {f1_score[1]}\")\n",
        "print(\"\\n\")\n",
        "\n",
        "# Confusion matrix\n",
        "print(\"Decision Tree Confusion Matrix\")\n",
        "CM.from_predictions(Y_test, predict)"
      ],
      "metadata": {
        "colab": {
          "base_uri": "https://localhost:8080/",
          "height": 657
        },
        "id": "0VUv6wAhN3q5",
        "outputId": "703492cb-fb34-43e2-90d2-3f7f9277751a"
      },
      "execution_count": 18,
      "outputs": [
        {
          "output_type": "stream",
          "name": "stdout",
          "text": [
            "Class 0 Precision: 0.9871794871794872\n",
            "Class 0 Recall: 0.9625\n",
            "Class 0 F1-score: 0.9746835443037974\n",
            "\n",
            "\n",
            "Class 1 Precision: 0.25\n",
            "Class 1 Recall: 0.5\n",
            "Class 1 F1-score: 0.3333333333333333\n",
            "\n",
            "\n",
            "Decision Tree Confusion Matrix\n"
          ]
        },
        {
          "output_type": "execute_result",
          "data": {
            "text/plain": [
              "<sklearn.metrics._plot.confusion_matrix.ConfusionMatrixDisplay at 0x7edda233e890>"
            ]
          },
          "metadata": {},
          "execution_count": 18
        },
        {
          "output_type": "display_data",
          "data": {
            "text/plain": [
              "<Figure size 640x480 with 2 Axes>"
            ],
            "image/png": "[encoded data removed]"
          },
          "metadata": {}
        }
      ]
    },
    {
      "cell_type": "markdown",
      "source": [
        "Class 1 recall is still only 50%, but obviously 50% > 0%! However, we can see we achieved what we wanted which was to force the model to predict more class 1's. In the model without threshold adjustment (but also hyperparameter optimised for class 1 recall) we predicted 2x class 1's (0 in the original model). This time we have predicted 4x so double!\n",
        "\n",
        "Let's look at another option ..."
      ],
      "metadata": {
        "id": "eEpvKkR2OnIu"
      }
    },
    {
      "cell_type": "markdown",
      "source": [
        "### Undersampling\n",
        "If we know that we have many class 0's and less class 1's, we can undersample class 0 ... that basically means not using all the data:"
      ],
      "metadata": {
        "id": "I-BKYvzvPOqJ"
      }
    },
    {
      "cell_type": "code",
      "source": [
        "from imblearn.under_sampling import RandomUnderSampler\n",
        "\n",
        "# create an undersampler that will return 4x as many majority as minority class\n",
        "# I.e. sampling_strategy=0.25 means minority class will be 25% of the majority class\n",
        "rus = RandomUnderSampler(random_state=42, sampling_strategy=0.25)\n",
        "\n",
        "# Note we only undersample the training data not the test data\n",
        "X_train, Y_train = rus.fit_resample(X_train, Y_train)\n",
        "\n",
        "# get the value countes by temporarily converting to a dataframe\n",
        "pd.Series(Y_train).value_counts()"
      ],
      "metadata": {
        "colab": {
          "base_uri": "https://localhost:8080/",
          "height": 146
        },
        "id": "DRjx_VzMPaJ2",
        "outputId": "bad7a41c-b895-4d57-8fd1-5a270ec5090b"
      },
      "execution_count": 19,
      "outputs": [
        {
          "output_type": "execute_result",
          "data": {
            "text/plain": [
              "0    32\n",
              "1     8\n",
              "Name: count, dtype: int64"
            ],
            "text/html": [
              "<div>\n",
              "<style scoped>\n",
              "    .dataframe tbody tr th:only-of-type {\n",
              "        vertical-align: middle;\n",
              "    }\n",
              "\n",
              "    .dataframe tbody tr th {\n",
              "        vertical-align: top;\n",
              "    }\n",
              "\n",
              "    .dataframe thead th {\n",
              "        text-align: right;\n",
              "    }\n",
              "</style>\n",
              "<table border=\"1\" class=\"dataframe\">\n",
              "  <thead>\n",
              "    <tr style=\"text-align: right;\">\n",
              "      <th></th>\n",
              "      <th>count</th>\n",
              "    </tr>\n",
              "  </thead>\n",
              "  <tbody>\n",
              "    <tr>\n",
              "      <th>0</th>\n",
              "      <td>32</td>\n",
              "    </tr>\n",
              "    <tr>\n",
              "      <th>1</th>\n",
              "      <td>8</td>\n",
              "    </tr>\n",
              "  </tbody>\n",
              "</table>\n",
              "</div><br><label><b>dtype:</b> int64</label>"
            ]
          },
          "metadata": {},
          "execution_count": 19
        }
      ]
    },
    {
      "cell_type": "markdown",
      "source": [
        "It works (32x class 0 and still 8x class 1), but not really enough training data in this case. Let's fit the model anyway for fun:"
      ],
      "metadata": {
        "id": "ILWT6MGDQ3FX"
      }
    },
    {
      "cell_type": "code",
      "source": [
        "# decision tree - standard hyperparameters\n",
        "tree_algo = tree()\n",
        "tree_model = tree_algo.fit(X_train, Y_train)\n",
        "\n",
        "# Predict the test data\n",
        "predict = tree_model.predict(X_test)\n",
        "\n",
        "# Predict the test data\n",
        "predict = tree_model.predict(X_test)\n",
        "\n",
        "# Calculate precision, recall, and F1-score\n",
        "precision, recall, f1_score, _ = precision_recall_fscore_support(Y_test, predict, average=None)\n",
        "\n",
        "# because each metric is now a list including class 0 and 1 we can specify\n",
        "# list item 0 ([0]) for class 0 and item 1 ([1]) for the other\n",
        "print(f\"Class 0 Precision: {precision[0]}\")\n",
        "print(f\"Class 0 Recall: {recall[0]}\")\n",
        "print(f\"Class 0 F1-score: {f1_score[0]}\")\n",
        "print(\"\\n\")\n",
        "print(f\"Class 1 Precision: {precision[1]}\")\n",
        "print(f\"Class 1 Recall: {recall[1]}\")\n",
        "print(f\"Class 1 F1-score: {f1_score[1]}\")\n",
        "print(\"\\n\")\n",
        "\n",
        "# Confusion matrix\n",
        "print(\"Decision Tree Confusion Matrix\")\n",
        "CM.from_predictions(Y_test, predict)"
      ],
      "metadata": {
        "colab": {
          "base_uri": "https://localhost:8080/",
          "height": 657
        },
        "id": "SVDJ4lmzQ2Qc",
        "outputId": "0958cdaf-1d01-486f-c531-7a197ec6cd17"
      },
      "execution_count": 20,
      "outputs": [
        {
          "output_type": "stream",
          "name": "stdout",
          "text": [
            "Class 0 Precision: 1.0\n",
            "Class 0 Recall: 0.9\n",
            "Class 0 F1-score: 0.9473684210526315\n",
            "\n",
            "\n",
            "Class 1 Precision: 0.2\n",
            "Class 1 Recall: 1.0\n",
            "Class 1 F1-score: 0.3333333333333333\n",
            "\n",
            "\n",
            "Decision Tree Confusion Matrix\n"
          ]
        },
        {
          "output_type": "execute_result",
          "data": {
            "text/plain": [
              "<sklearn.metrics._plot.confusion_matrix.ConfusionMatrixDisplay at 0x7edd9fe26a10>"
            ]
          },
          "metadata": {},
          "execution_count": 20
        },
        {
          "output_type": "display_data",
          "data": {
            "text/plain": [
              "<Figure size 640x480 with 2 Axes>"
            ],
            "image/png": "[encoded data removed]"
          },
          "metadata": {}
        }
      ]
    },
    {
      "cell_type": "markdown",
      "source": [
        "Again the model is definitely better at predicting class 1 than the first model - in fact 100% class 1 recall. However, we make our precision worse. This is quite common in these problems, improving one metric will damage another.\n",
        "\n",
        "If undersampling won't work because we don't have enough examples of 1, how about the other way?"
      ],
      "metadata": {
        "id": "dpQsLdnHRPLx"
      }
    },
    {
      "cell_type": "markdown",
      "source": [
        "### Oversampling\n",
        "Here we will use the SMOTE method to generate synthetic samples of class 1:"
      ],
      "metadata": {
        "id": "kpGnItFGRZGs"
      }
    },
    {
      "cell_type": "code",
      "source": [
        "# RESET THE DATA TO REMOVE THE EFFECT OF UNDERSAMPLING\n",
        "\n",
        "# seperate x and y\n",
        "y_value = np.ravel(new_moons_data['class'])\n",
        "x_values = new_moons_data.drop('class', axis=1)\n",
        "\n",
        "# split data into training and test\n",
        "X_train, X_test, Y_train, Y_test = train_test_split(x_values, y_value, test_size = 0.2, random_state=4567, stratify=y_value)"
      ],
      "metadata": {
        "id": "-oEFk3VRRnzP"
      },
      "execution_count": 21,
      "outputs": []
    },
    {
      "cell_type": "code",
      "source": [
        "from imblearn.over_sampling import SMOTE\n",
        "\n",
        "# create an SMOTE instance that will return 4x as many majority as minority class\n",
        "# I.e. sampling_strategy=0.25 means minority class will be 25% of the majority class\n",
        "smote = SMOTE(random_state=42, sampling_strategy=0.25)\n",
        "\n",
        "# Note we only undersample the training data not the test data\n",
        "X_train, Y_train = smote.fit_resample(X_train, Y_train)\n",
        "\n",
        "# get the value countes by temporarily converting to a dataframe\n",
        "pd.Series(Y_train).value_counts()"
      ],
      "metadata": {
        "colab": {
          "base_uri": "https://localhost:8080/",
          "height": 146
        },
        "id": "ZSdyO6wPR3jD",
        "outputId": "0e2d3eb2-1d84-410b-d947-fa8eacf0e937"
      },
      "execution_count": 22,
      "outputs": [
        {
          "output_type": "execute_result",
          "data": {
            "text/plain": [
              "0    320\n",
              "1     80\n",
              "Name: count, dtype: int64"
            ],
            "text/html": [
              "<div>\n",
              "<style scoped>\n",
              "    .dataframe tbody tr th:only-of-type {\n",
              "        vertical-align: middle;\n",
              "    }\n",
              "\n",
              "    .dataframe tbody tr th {\n",
              "        vertical-align: top;\n",
              "    }\n",
              "\n",
              "    .dataframe thead th {\n",
              "        text-align: right;\n",
              "    }\n",
              "</style>\n",
              "<table border=\"1\" class=\"dataframe\">\n",
              "  <thead>\n",
              "    <tr style=\"text-align: right;\">\n",
              "      <th></th>\n",
              "      <th>count</th>\n",
              "    </tr>\n",
              "  </thead>\n",
              "  <tbody>\n",
              "    <tr>\n",
              "      <th>0</th>\n",
              "      <td>320</td>\n",
              "    </tr>\n",
              "    <tr>\n",
              "      <th>1</th>\n",
              "      <td>80</td>\n",
              "    </tr>\n",
              "  </tbody>\n",
              "</table>\n",
              "</div><br><label><b>dtype:</b> int64</label>"
            ]
          },
          "metadata": {},
          "execution_count": 22
        }
      ]
    },
    {
      "cell_type": "markdown",
      "source": [
        "Again, everything has worked - we now have 80 training examples of class 1 rather than 8. But does it help?"
      ],
      "metadata": {
        "id": "l82CUX6yRnPl"
      }
    },
    {
      "cell_type": "code",
      "source": [
        "# decision tree - standard hyperparameters\n",
        "tree_algo = tree()\n",
        "tree_model = tree_algo.fit(X_train, Y_train)\n",
        "\n",
        "# Predict the test data\n",
        "predict = tree_model.predict(X_test)\n",
        "\n",
        "# Predict the test data\n",
        "predict = tree_model.predict(X_test)\n",
        "\n",
        "# Calculate precision, recall, and F1-score\n",
        "precision, recall, f1_score, _ = precision_recall_fscore_support(Y_test, predict, average=None)\n",
        "\n",
        "# because each metric is now a list including class 0 and 1 we can specify\n",
        "# list item 0 ([0]) for class 0 and item 1 ([1]) for the other\n",
        "print(f\"Class 0 Precision: {precision[0]}\")\n",
        "print(f\"Class 0 Recall: {recall[0]}\")\n",
        "print(f\"Class 0 F1-score: {f1_score[0]}\")\n",
        "print(\"\\n\")\n",
        "print(f\"Class 1 Precision: {precision[1]}\")\n",
        "print(f\"Class 1 Recall: {recall[1]}\")\n",
        "print(f\"Class 1 F1-score: {f1_score[1]}\")\n",
        "print(\"\\n\")\n",
        "\n",
        "# Confusion matrix\n",
        "print(\"Decision Tree Confusion Matrix\")\n",
        "CM.from_predictions(Y_test, predict)"
      ],
      "metadata": {
        "colab": {
          "base_uri": "https://localhost:8080/",
          "height": 657
        },
        "id": "weEOzvwmSo0N",
        "outputId": "7187484d-cb69-452d-8058-a5c924b2380c"
      },
      "execution_count": 23,
      "outputs": [
        {
          "output_type": "stream",
          "name": "stdout",
          "text": [
            "Class 0 Precision: 0.9873417721518988\n",
            "Class 0 Recall: 0.975\n",
            "Class 0 F1-score: 0.9811320754716981\n",
            "\n",
            "\n",
            "Class 1 Precision: 0.3333333333333333\n",
            "Class 1 Recall: 0.5\n",
            "Class 1 F1-score: 0.4\n",
            "\n",
            "\n",
            "Decision Tree Confusion Matrix\n"
          ]
        },
        {
          "output_type": "execute_result",
          "data": {
            "text/plain": [
              "<sklearn.metrics._plot.confusion_matrix.ConfusionMatrixDisplay at 0x7edda35130a0>"
            ]
          },
          "metadata": {},
          "execution_count": 23
        },
        {
          "output_type": "display_data",
          "data": {
            "text/plain": [
              "<Figure size 640x480 with 2 Axes>"
            ],
            "image/png": "[encoded data removed]"
          },
          "metadata": {}
        }
      ]
    },
    {
      "cell_type": "markdown",
      "source": [
        "Slightly more inclined to predict class 1 than the original, but probably not the best model we have seen. In practice, we oversampled too hard (we now have 8 real examples of class 1 and 72 synthetic ones).\n",
        "\n",
        "So what is the best model? We would need to experiment and find out! Maybe some combination of the above four would give us better overall performance."
      ],
      "metadata": {
        "id": "5HzZUcYeSxg6"
      }
    },
    {
      "cell_type": "markdown",
      "source": [
        "# Multi-class Classification\n",
        "We will end by just demoing a model fit for a multiclass case. We should note the code is basically the same throughout."
      ],
      "metadata": {
        "id": "Klbyz9I9TLts"
      }
    },
    {
      "cell_type": "code",
      "source": [
        "from sklearn.datasets import make_classification\n",
        "\n",
        "# generate artificial data for 5 class classification\n",
        "X, Y = make_classification(n_samples=500, n_classes=5, n_informative=4, random_state=123)\n",
        "\n",
        "fake_data = pd.DataFrame(X)\n",
        "fake_data['class'] = Y\n",
        "fake_data.head()"
      ],
      "metadata": {
        "colab": {
          "base_uri": "https://localhost:8080/",
          "height": 255
        },
        "id": "knoDRTDUT44B",
        "outputId": "798390cf-7f54-45f5-b188-f1af577d73fe"
      },
      "execution_count": 24,
      "outputs": [
        {
          "output_type": "execute_result",
          "data": {
            "text/plain": [
              "          0         1         2         3         4         5         6  \\\n",
              "0  1.014592 -0.177833  1.212151 -1.429679 -0.844274  1.740312  0.836186   \n",
              "1  1.674879 -1.386293  0.759391 -1.481794  0.275494  2.052528 -1.164747   \n",
              "2  0.287461  1.932166 -1.188135  1.073414  0.671983 -0.810445 -0.530596   \n",
              "3  0.514904 -1.827781 -1.154551 -0.964384 -0.579608  0.446449  0.662499   \n",
              "4  0.923203 -1.298601  0.234343 -0.137969  0.727587  1.790539 -1.131213   \n",
              "\n",
              "          7         8         9  ...        11        12        13        14  \\\n",
              "0 -1.736907  1.677634 -0.347955  ... -0.055537 -0.319690  1.783051 -1.620938   \n",
              "1  1.557078  0.137584 -1.853022  ...  0.788579  0.611384  1.624125 -0.943281   \n",
              "2 -1.755540  2.034083  1.066881  ... -0.827758 -0.291577  0.982315  1.397589   \n",
              "3  0.503596  0.387970  2.417113  ... -0.617200  0.117624  0.736260 -1.907156   \n",
              "4  1.903589  1.234253 -1.646777  ... -1.146304 -0.778873  0.481869  1.392814   \n",
              "\n",
              "         15        16        17        18        19  class  \n",
              "0 -0.742080 -2.156547  0.297082  0.675748 -0.019105      3  \n",
              "1 -0.139477  1.130020  0.597144  0.441203  1.030201      3  \n",
              "2 -0.900553  2.195351  2.090406  0.577108  0.436545      0  \n",
              "3  0.810031 -0.077824 -1.170199  0.419940  0.362539      4  \n",
              "4 -0.893920  1.148936  0.643505 -0.205255 -1.039693      0  \n",
              "\n",
              "[5 rows x 21 columns]"
            ],
            "text/html": [
              "\n",
              "  <div id=\"df-62347900-c0a6-45c6-8671-0b9bfa9fb572\" class=\"colab-df-container\">\n",
              "    <div>\n",
              "<style scoped>\n",
              "    .dataframe tbody tr th:only-of-type {\n",
              "        vertical-align: middle;\n",
              "    }\n",
              "\n",
              "    .dataframe tbody tr th {\n",
              "        vertical-align: top;\n",
              "    }\n",
              "\n",
              "    .dataframe thead th {\n",
              "        text-align: right;\n",
              "    }\n",
              "</style>\n",
              "<table border=\"1\" class=\"dataframe\">\n",
              "  <thead>\n",
              "    <tr style=\"text-align: right;\">\n",
              "      <th></th>\n",
              "      <th>0</th>\n",
              "      <th>1</th>\n",
              "      <th>2</th>\n",
              "      <th>3</th>\n",
              "      <th>4</th>\n",
              "      <th>5</th>\n",
              "      <th>6</th>\n",
              "      <th>7</th>\n",
              "      <th>8</th>\n",
              "      <th>9</th>\n",
              "      <th>...</th>\n",
              "      <th>11</th>\n",
              "      <th>12</th>\n",
              "      <th>13</th>\n",
              "      <th>14</th>\n",
              "      <th>15</th>\n",
              "      <th>16</th>\n",
              "      <th>17</th>\n",
              "      <th>18</th>\n",
              "      <th>19</th>\n",
              "      <th>class</th>\n",
              "    </tr>\n",
              "  </thead>\n",
              "  <tbody>\n",
              "    <tr>\n",
              "      <th>0</th>\n",
              "      <td>1.014592</td>\n",
              "      <td>-0.177833</td>\n",
              "      <td>1.212151</td>\n",
              "      <td>-1.429679</td>\n",
              "      <td>-0.844274</td>\n",
              "      <td>1.740312</td>\n",
              "      <td>0.836186</td>\n",
              "      <td>-1.736907</td>\n",
              "      <td>1.677634</td>\n",
              "      <td>-0.347955</td>\n",
              "      <td>...</td>\n",
              "      <td>-0.055537</td>\n",
              "      <td>-0.319690</td>\n",
              "      <td>1.783051</td>\n",
              "      <td>-1.620938</td>\n",
              "      <td>-0.742080</td>\n",
              "      <td>-2.156547</td>\n",
              "      <td>0.297082</td>\n",
              "      <td>0.675748</td>\n",
              "      <td>-0.019105</td>\n",
              "      <td>3</td>\n",
              "    </tr>\n",
              "    <tr>\n",
              "      <th>1</th>\n",
              "      <td>1.674879</td>\n",
              "      <td>-1.386293</td>\n",
              "      <td>0.759391</td>\n",
              "      <td>-1.481794</td>\n",
              "      <td>0.275494</td>\n",
              "      <td>2.052528</td>\n",
              "      <td>-1.164747</td>\n",
              "      <td>1.557078</td>\n",
              "      <td>0.137584</td>\n",
              "      <td>-1.853022</td>\n",
              "      <td>...</td>\n",
              "      <td>0.788579</td>\n",
              "      <td>0.611384</td>\n",
              "      <td>1.624125</td>\n",
              "      <td>-0.943281</td>\n",
              "      <td>-0.139477</td>\n",
              "      <td>1.130020</td>\n",
              "      <td>0.597144</td>\n",
              "      <td>0.441203</td>\n",
              "      <td>1.030201</td>\n",
              "      <td>3</td>\n",
              "    </tr>\n",
              "    <tr>\n",
              "      <th>2</th>\n",
              "      <td>0.287461</td>\n",
              "      <td>1.932166</td>\n",
              "      <td>-1.188135</td>\n",
              "      <td>1.073414</td>\n",
              "      <td>0.671983</td>\n",
              "      <td>-0.810445</td>\n",
              "      <td>-0.530596</td>\n",
              "      <td>-1.755540</td>\n",
              "      <td>2.034083</td>\n",
              "      <td>1.066881</td>\n",
              "      <td>...</td>\n",
              "      <td>-0.827758</td>\n",
              "      <td>-0.291577</td>\n",
              "      <td>0.982315</td>\n",
              "      <td>1.397589</td>\n",
              "      <td>-0.900553</td>\n",
              "      <td>2.195351</td>\n",
              "      <td>2.090406</td>\n",
              "      <td>0.577108</td>\n",
              "      <td>0.436545</td>\n",
              "      <td>0</td>\n",
              "    </tr>\n",
              "    <tr>\n",
              "      <th>3</th>\n",
              "      <td>0.514904</td>\n",
              "      <td>-1.827781</td>\n",
              "      <td>-1.154551</td>\n",
              "      <td>-0.964384</td>\n",
              "      <td>-0.579608</td>\n",
              "      <td>0.446449</td>\n",
              "      <td>0.662499</td>\n",
              "      <td>0.503596</td>\n",
              "      <td>0.387970</td>\n",
              "      <td>2.417113</td>\n",
              "      <td>...</td>\n",
              "      <td>-0.617200</td>\n",
              "      <td>0.117624</td>\n",
              "      <td>0.736260</td>\n",
              "      <td>-1.907156</td>\n",
              "      <td>0.810031</td>\n",
              "      <td>-0.077824</td>\n",
              "      <td>-1.170199</td>\n",
              "      <td>0.419940</td>\n",
              "      <td>0.362539</td>\n",
              "      <td>4</td>\n",
              "    </tr>\n",
              "    <tr>\n",
              "      <th>4</th>\n",
              "      <td>0.923203</td>\n",
              "      <td>-1.298601</td>\n",
              "      <td>0.234343</td>\n",
              "      <td>-0.137969</td>\n",
              "      <td>0.727587</td>\n",
              "      <td>1.790539</td>\n",
              "      <td>-1.131213</td>\n",
              "      <td>1.903589</td>\n",
              "      <td>1.234253</td>\n",
              "      <td>-1.646777</td>\n",
              "      <td>...</td>\n",
              "      <td>-1.146304</td>\n",
              "      <td>-0.778873</td>\n",
              "      <td>0.481869</td>\n",
              "      <td>1.392814</td>\n",
              "      <td>-0.893920</td>\n",
              "      <td>1.148936</td>\n",
              "      <td>0.643505</td>\n",
              "      <td>-0.205255</td>\n",
              "      <td>-1.039693</td>\n",
              "      <td>0</td>\n",
              "    </tr>\n",
              "  </tbody>\n",
              "</table>\n",
              "<p>5 rows × 21 columns</p>\n",
              "</div>\n",
              "    <div class=\"colab-df-buttons\">\n",
              "\n",
              "  <div class=\"colab-df-container\">\n",
              "    <button class=\"colab-df-convert\" onclick=\"convertToInteractive('df-62347900-c0a6-45c6-8671-0b9bfa9fb572')\"\n",
              "            title=\"Convert this dataframe to an interactive table.\"\n",
              "            style=\"display:none;\">\n",
              "\n",
              "  <svg xmlns=\"http://www.w3.org/2000/svg\" height=\"24px\" viewBox=\"0 -960 960 960\">\n",
              "    <path d=\"M120-120v-720h720v720H120Zm60-500h600v-160H180v160Zm220 220h160v-160H400v160Zm0 220h160v-160H400v160ZM180-400h160v-160H180v160Zm440 0h160v-160H620v160ZM180-180h160v-160H180v160Zm440 0h160v-160H620v160Z\"/>\n",
              "  </svg>\n",
              "    </button>\n",
              "\n",
              "  <style>\n",
              "    .colab-df-container {\n",
              "      display:flex;\n",
              "      gap: 12px;\n",
              "    }\n",
              "\n",
              "    .colab-df-convert {\n",
              "      background-color: #E8F0FE;\n",
              "      border: none;\n",
              "      border-radius: 50%;\n",
              "      cursor: pointer;\n",
              "      display: none;\n",
              "      fill: #1967D2;\n",
              "      height: 32px;\n",
              "      padding: 0 0 0 0;\n",
              "      width: 32px;\n",
              "    }\n",
              "\n",
              "    .colab-df-convert:hover {\n",
              "      background-color: #E2EBFA;\n",
              "      box-shadow: 0px 1px 2px rgba(60, 64, 67, 0.3), 0px 1px 3px 1px rgba(60, 64, 67, 0.15);\n",
              "      fill: #174EA6;\n",
              "    }\n",
              "\n",
              "    .colab-df-buttons div {\n",
              "      margin-bottom: 4px;\n",
              "    }\n",
              "\n",
              "    [theme=dark] .colab-df-convert {\n",
              "      background-color: #3B4455;\n",
              "      fill: #D2E3FC;\n",
              "    }\n",
              "\n",
              "    [theme=dark] .colab-df-convert:hover {\n",
              "      background-color: #434B5C;\n",
              "      box-shadow: 0px 1px 3px 1px rgba(0, 0, 0, 0.15);\n",
              "      filter: drop-shadow(0px 1px 2px rgba(0, 0, 0, 0.3));\n",
              "      fill: #FFFFFF;\n",
              "    }\n",
              "  </style>\n",
              "\n",
              "    <script>\n",
              "      const buttonEl =\n",
              "        document.querySelector('#df-62347900-c0a6-45c6-8671-0b9bfa9fb572 button.colab-df-convert');\n",
              "      buttonEl.style.display =\n",
              "        google.colab.kernel.accessAllowed ? 'block' : 'none';\n",
              "\n",
              "      async function convertToInteractive(key) {\n",
              "        const element = document.querySelector('#df-62347900-c0a6-45c6-8671-0b9bfa9fb572');\n",
              "        const dataTable =\n",
              "          await google.colab.kernel.invokeFunction('convertToInteractive',\n",
              "                                                    [key], {});\n",
              "        if (!dataTable) return;\n",
              "\n",
              "        const docLinkHtml = 'Like what you see? Visit the ' +\n",
              "          '<a target=\"_blank\" href=https://colab.research.google.com/notebooks/data_table.ipynb>data table notebook</a>'\n",
              "          + ' to learn more about interactive tables.';\n",
              "        element.innerHTML = '';\n",
              "        dataTable['output_type'] = 'display_data';\n",
              "        await google.colab.output.renderOutput(dataTable, element);\n",
              "        const docLink = document.createElement('div');\n",
              "        docLink.innerHTML = docLinkHtml;\n",
              "        element.appendChild(docLink);\n",
              "      }\n",
              "    </script>\n",
              "  </div>\n",
              "\n",
              "\n",
              "<div id=\"df-cf10a87a-fb96-4221-a781-b4e7f57e5393\">\n",
              "  <button class=\"colab-df-quickchart\" onclick=\"quickchart('df-cf10a87a-fb96-4221-a781-b4e7f57e5393')\"\n",
              "            title=\"Suggest charts\"\n",
              "            style=\"display:none;\">\n",
              "\n",
              "<svg xmlns=\"http://www.w3.org/2000/svg\" height=\"24px\"viewBox=\"0 0 24 24\"\n",
              "     width=\"24px\">\n",
              "    <g>\n",
              "        <path d=\"M19 3H5c-1.1 0-2 .9-2 2v14c0 1.1.9 2 2 2h14c1.1 0 2-.9 2-2V5c0-1.1-.9-2-2-2zM9 17H7v-7h2v7zm4 0h-2V7h2v10zm4 0h-2v-4h2v4z\"/>\n",
              "    </g>\n",
              "</svg>\n",
              "  </button>\n",
              "\n",
              "<style>\n",
              "  .colab-df-quickchart {\n",
              "      --bg-color: #E8F0FE;\n",
              "      --fill-color: #1967D2;\n",
              "      --hover-bg-color: #E2EBFA;\n",
              "      --hover-fill-color: #174EA6;\n",
              "      --disabled-fill-color: #AAA;\n",
              "      --disabled-bg-color: #DDD;\n",
              "  }\n",
              "\n",
              "  [theme=dark] .colab-df-quickchart {\n",
              "      --bg-color: #3B4455;\n",
              "      --fill-color: #D2E3FC;\n",
              "      --hover-bg-color: #434B5C;\n",
              "      --hover-fill-color: #FFFFFF;\n",
              "      --disabled-bg-color: #3B4455;\n",
              "      --disabled-fill-color: #666;\n",
              "  }\n",
              "\n",
              "  .colab-df-quickchart {\n",
              "    background-color: var(--bg-color);\n",
              "    border: none;\n",
              "    border-radius: 50%;\n",
              "    cursor: pointer;\n",
              "    display: none;\n",
              "    fill: var(--fill-color);\n",
              "    height: 32px;\n",
              "    padding: 0;\n",
              "    width: 32px;\n",
              "  }\n",
              "\n",
              "  .colab-df-quickchart:hover {\n",
              "    background-color: var(--hover-bg-color);\n",
              "    box-shadow: 0 1px 2px rgba(60, 64, 67, 0.3), 0 1px 3px 1px rgba(60, 64, 67, 0.15);\n",
              "    fill: var(--button-hover-fill-color);\n",
              "  }\n",
              "\n",
              "  .colab-df-quickchart-complete:disabled,\n",
              "  .colab-df-quickchart-complete:disabled:hover {\n",
              "    background-color: var(--disabled-bg-color);\n",
              "    fill: var(--disabled-fill-color);\n",
              "    box-shadow: none;\n",
              "  }\n",
              "\n",
              "  .colab-df-spinner {\n",
              "    border: 2px solid var(--fill-color);\n",
              "    border-color: transparent;\n",
              "    border-bottom-color: var(--fill-color);\n",
              "    animation:\n",
              "      spin 1s steps(1) infinite;\n",
              "  }\n",
              "\n",
              "  @keyframes spin {\n",
              "    0% {\n",
              "      border-color: transparent;\n",
              "      border-bottom-color: var(--fill-color);\n",
              "      border-left-color: var(--fill-color);\n",
              "    }\n",
              "    20% {\n",
              "      border-color: transparent;\n",
              "      border-left-color: var(--fill-color);\n",
              "      border-top-color: var(--fill-color);\n",
              "    }\n",
              "    30% {\n",
              "      border-color: transparent;\n",
              "      border-left-color: var(--fill-color);\n",
              "      border-top-color: var(--fill-color);\n",
              "      border-right-color: var(--fill-color);\n",
              "    }\n",
              "    40% {\n",
              "      border-color: transparent;\n",
              "      border-right-color: var(--fill-color);\n",
              "      border-top-color: var(--fill-color);\n",
              "    }\n",
              "    60% {\n",
              "      border-color: transparent;\n",
              "      border-right-color: var(--fill-color);\n",
              "    }\n",
              "    80% {\n",
              "      border-color: transparent;\n",
              "      border-right-color: var(--fill-color);\n",
              "      border-bottom-color: var(--fill-color);\n",
              "    }\n",
              "    90% {\n",
              "      border-color: transparent;\n",
              "      border-bottom-color: var(--fill-color);\n",
              "    }\n",
              "  }\n",
              "</style>\n",
              "\n",
              "  <script>\n",
              "    async function quickchart(key) {\n",
              "      const quickchartButtonEl =\n",
              "        document.querySelector('#' + key + ' button');\n",
              "      quickchartButtonEl.disabled = true;  // To prevent multiple clicks.\n",
              "      quickchartButtonEl.classList.add('colab-df-spinner');\n",
              "      try {\n",
              "        const charts = await google.colab.kernel.invokeFunction(\n",
              "            'suggestCharts', [key], {});\n",
              "      } catch (error) {\n",
              "        console.error('Error during call to suggestCharts:', error);\n",
              "      }\n",
              "      quickchartButtonEl.classList.remove('colab-df-spinner');\n",
              "      quickchartButtonEl.classList.add('colab-df-quickchart-complete');\n",
              "    }\n",
              "    (() => {\n",
              "      let quickchartButtonEl =\n",
              "        document.querySelector('#df-cf10a87a-fb96-4221-a781-b4e7f57e5393 button');\n",
              "      quickchartButtonEl.style.display =\n",
              "        google.colab.kernel.accessAllowed ? 'block' : 'none';\n",
              "    })();\n",
              "  </script>\n",
              "</div>\n",
              "\n",
              "    </div>\n",
              "  </div>\n"
            ],
            "application/vnd.google.colaboratory.intrinsic+json": {
              "type": "dataframe",
              "variable_name": "fake_data"
            }
          },
          "metadata": {},
          "execution_count": 24
        }
      ]
    },
    {
      "cell_type": "markdown",
      "source": [
        "We have a 5-class dataset with 20x predictors. We can split as normal and fit a logistic regression.\n",
        "\n",
        "Note: logistic regression is strictly binary so we are making all the _one\\_versus\\_one_ models to find the final model."
      ],
      "metadata": {
        "id": "Dq2C_AJfU56v"
      }
    },
    {
      "cell_type": "code",
      "source": [
        "from sklearn.linear_model import LogisticRegression as LR\n",
        "\n",
        "y_value = np.ravel(fake_data['class'])\n",
        "x_values = fake_data.drop('class', axis=1)\n",
        "\n",
        "# split data into training and test\n",
        "X_train, X_test, Y_train, Y_test = train_test_split(x_values, y_value, test_size = 0.2, random_state=4567, stratify=y_value)\n",
        "\n",
        "# specify algo and train model\n",
        "LogR_algo = LR()\n",
        "LogR_model = LogR_algo.fit(X_train, Y_train)\n",
        "\n",
        "# predict\n",
        "predict = LogR_model.predict(X_test)\n",
        "\n",
        "# Calculate Accuracy\n",
        "accuracy = accuracy_score(Y_test, predict)\n",
        "print(f\"Accuracy: {accuracy}\")\n",
        "\n",
        "# Calculate precision, recall, and F1-score\n",
        "precision, recall, f1_score, _ = precision_recall_fscore_support(Y_test, predict, average='macro')\n",
        "print(f\"Macro Precision: {precision}\")\n",
        "print(f\"Macro Recall: {recall}\")\n",
        "print(f\"Macro F1-score: {f1_score}\")\n",
        "print(\"\\n\")\n",
        "\n",
        "# Confusion matrix\n",
        "print(\"Logistic Regression Confusion Matrix\")\n",
        "CM.from_predictions(Y_test, predict)"
      ],
      "metadata": {
        "colab": {
          "base_uri": "https://localhost:8080/",
          "height": 594
        },
        "id": "zVinMJccVRb3",
        "outputId": "aa2b04af-157d-4358-d60f-20e6508b6c53"
      },
      "execution_count": 25,
      "outputs": [
        {
          "output_type": "stream",
          "name": "stdout",
          "text": [
            "Accuracy: 0.5\n",
            "Macro Precision: 0.5034035087719299\n",
            "Macro Recall: 0.5\n",
            "Macro F1-score: 0.4945804195804196\n",
            "\n",
            "\n",
            "Logistic Regression Confusion Matrix\n"
          ]
        },
        {
          "output_type": "execute_result",
          "data": {
            "text/plain": [
              "<sklearn.metrics._plot.confusion_matrix.ConfusionMatrixDisplay at 0x7edd9bdf1660>"
            ]
          },
          "metadata": {},
          "execution_count": 25
        },
        {
          "output_type": "display_data",
          "data": {
            "text/plain": [
              "<Figure size 640x480 with 2 Axes>"
            ],
            "image/png": "[encoded data removed]"
          },
          "metadata": {}
        }
      ]
    },
    {
      "cell_type": "markdown",
      "source": [
        "Accuracy at 50% would be a bad score for a binary problem with even class sizes (which we have) ... it would be performing as well as a random guess.\n",
        "\n",
        "However, for the random unbiased classifier in an even 5 class problem we expect to score:\n",
        "<br>\n",
        "$ 5 \\cdot (0.2 \\cdot 0.2) = 0.2$\n",
        "<br>\n",
        "So our performance is acutally 50% versus 20%. Is that good enough? ...\n",
        "<br><br>\n",
        "...\n",
        "<br><br>\n",
        "...\n",
        "<br><br>\n",
        "__IT DEPENDS!__\n",
        "<br>\n",
        "\n",
        "For completeness, we can also see what would happen with _one\\_versus\\_all_ (now depreciated from the main library)"
      ],
      "metadata": {
        "id": "iPJtS1dzWCWf"
      }
    },
    {
      "cell_type": "code",
      "source": [
        "from sklearn.multiclass import OneVsRestClassifier as OVR\n",
        "\n",
        "# specify algo and train model\n",
        "LogR_algo = OVR(LR())\n",
        "LogR_model = LogR_algo.fit(X_train, Y_train)\n",
        "\n",
        "# predict\n",
        "predict = LogR_model.predict(X_test)\n",
        "\n",
        "# Calculate Accuracy\n",
        "accuracy = accuracy_score(Y_test, predict)\n",
        "print(f\"Accuracy: {accuracy}\")\n",
        "\n",
        "# Calculate precision, recall, and F1-score\n",
        "precision, recall, f1_score, _ = precision_recall_fscore_support(Y_test, predict, average='macro')\n",
        "print(f\"Macro Precision: {precision}\")\n",
        "print(f\"Macro Recall: {recall}\")\n",
        "print(f\"Macro F1-score: {f1_score}\")\n",
        "print(\"\\n\")\n",
        "\n",
        "# Confusion matrix\n",
        "print(\"Logistic Regression Confusion Matrix\")\n",
        "CM.from_predictions(Y_test, predict)"
      ],
      "metadata": {
        "colab": {
          "base_uri": "https://localhost:8080/",
          "height": 594
        },
        "id": "MQ8LrC5YU5P6",
        "outputId": "1e1b8af4-f6ff-4edd-d4f7-948a581df2c2"
      },
      "execution_count": 26,
      "outputs": [
        {
          "output_type": "stream",
          "name": "stdout",
          "text": [
            "Accuracy: 0.49\n",
            "Macro Precision: 0.4810606060606061\n",
            "Macro Recall: 0.49000000000000005\n",
            "Macro F1-score: 0.4788818637502848\n",
            "\n",
            "\n",
            "Logistic Regression Confusion Matrix\n"
          ]
        },
        {
          "output_type": "execute_result",
          "data": {
            "text/plain": [
              "<sklearn.metrics._plot.confusion_matrix.ConfusionMatrixDisplay at 0x7edd9b7fe410>"
            ]
          },
          "metadata": {},
          "execution_count": 26
        },
        {
          "output_type": "display_data",
          "data": {
            "text/plain": [
              "<Figure size 640x480 with 2 Axes>"
            ],
            "image/png": "[encoded data removed]"
          },
          "metadata": {}
        }
      ]
    },
    {
      "cell_type": "markdown",
      "source": [
        "Slightly worse but not much difference."
      ],
      "metadata": {
        "id": "SE2XaoAaXP9a"
      }
    }
  ]
}
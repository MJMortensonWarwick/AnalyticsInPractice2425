{
  "nbformat": 4,
  "nbformat_minor": 0,
  "metadata": {
    "colab": {
      "provenance": [],
      "authorship_tag": "ABX9TyPg7P+X9HVcv8weQz0FXcNw",
      "include_colab_link": true
    },
    "kernelspec": {
      "name": "python3",
      "display_name": "Python 3"
    },
    "language_info": {
      "name": "python"
    }
  },
  "cells": [
    {
      "cell_type": "markdown",
      "metadata": {
        "id": "view-in-github",
        "colab_type": "text"
      },
      "source": [
        "<a href=\"https://colab.research.google.com/github/MJMortensonWarwick/AnalyticsInPractice2425/blob/main/6_1_Random_Forest_and_GBDT.ipynb\" target=\"_parent\"><img src=\"https://colab.research.google.com/assets/colab-badge.svg\" alt=\"Open In Colab\"/></a>"
      ]
    },
    {
      "cell_type": "markdown",
      "source": [
        "# Random Forest and Gradient Boosting Decision Trees\n",
        "In this notebook we will extend the solution to last week's notebook by also looking at Random Forest and two GBDT implementations (the native scikit-learn implementation and also _eXtreme Gradient Boosting Decision Trees_ - _XGBDT_).\n",
        "\n",
        "We start with the same data preparation steps as in last week's solutions (you can get the data from the week 5 Lecture-workshop page on my.wbs):\n",
        "\n",
        "\n",
        "\n",
        "\n",
        "\n"
      ],
      "metadata": {
        "id": "MHkB_ijsXnZW"
      }
    },
    {
      "cell_type": "code",
      "source": [
        "from google.colab import files\n",
        "uploaded = files.upload()"
      ],
      "metadata": {
        "colab": {
          "base_uri": "https://localhost:8080/",
          "height": 73
        },
        "id": "8Neoy7c6aL4l",
        "outputId": "af97942c-cef9-4b79-9098-4db457229a10"
      },
      "execution_count": 1,
      "outputs": [
        {
          "output_type": "display_data",
          "data": {
            "text/plain": [
              "<IPython.core.display.HTML object>"
            ],
            "text/html": [
              "\n",
              "     <input type=\"file\" id=\"files-a826d491-7267-4c2d-8808-d8360fd2ce77\" name=\"files[]\" multiple disabled\n",
              "        style=\"border:none\" />\n",
              "     <output id=\"result-a826d491-7267-4c2d-8808-d8360fd2ce77\">\n",
              "      Upload widget is only available when the cell has been executed in the\n",
              "      current browser session. Please rerun this cell to enable.\n",
              "      </output>\n",
              "      <script>// Copyright 2017 Google LLC\n",
              "//\n",
              "// Licensed under the Apache License, Version 2.0 (the \"License\");\n",
              "// you may not use this file except in compliance with the License.\n",
              "// You may obtain a copy of the License at\n",
              "//\n",
              "//      http://www.apache.org/licenses/LICENSE-2.0\n",
              "//\n",
              "// Unless required by applicable law or agreed to in writing, software\n",
              "// distributed under the License is distributed on an \"AS IS\" BASIS,\n",
              "// WITHOUT WARRANTIES OR CONDITIONS OF ANY KIND, either express or implied.\n",
              "// See the License for the specific language governing permissions and\n",
              "// limitations under the License.\n",
              "\n",
              "/**\n",
              " * @fileoverview Helpers for google.colab Python module.\n",
              " */\n",
              "(function(scope) {\n",
              "function span(text, styleAttributes = {}) {\n",
              "  const element = document.createElement('span');\n",
              "  element.textContent = text;\n",
              "  for (const key of Object.keys(styleAttributes)) {\n",
              "    element.style[key] = styleAttributes[key];\n",
              "  }\n",
              "  return element;\n",
              "}\n",
              "\n",
              "// Max number of bytes which will be uploaded at a time.\n",
              "const MAX_PAYLOAD_SIZE = 100 * 1024;\n",
              "\n",
              "function _uploadFiles(inputId, outputId) {\n",
              "  const steps = uploadFilesStep(inputId, outputId);\n",
              "  const outputElement = document.getElementById(outputId);\n",
              "  // Cache steps on the outputElement to make it available for the next call\n",
              "  // to uploadFilesContinue from Python.\n",
              "  outputElement.steps = steps;\n",
              "\n",
              "  return _uploadFilesContinue(outputId);\n",
              "}\n",
              "\n",
              "// This is roughly an async generator (not supported in the browser yet),\n",
              "// where there are multiple asynchronous steps and the Python side is going\n",
              "// to poll for completion of each step.\n",
              "// This uses a Promise to block the python side on completion of each step,\n",
              "// then passes the result of the previous step as the input to the next step.\n",
              "function _uploadFilesContinue(outputId) {\n",
              "  const outputElement = document.getElementById(outputId);\n",
              "  const steps = outputElement.steps;\n",
              "\n",
              "  const next = steps.next(outputElement.lastPromiseValue);\n",
              "  return Promise.resolve(next.value.promise).then((value) => {\n",
              "    // Cache the last promise value to make it available to the next\n",
              "    // step of the generator.\n",
              "    outputElement.lastPromiseValue = value;\n",
              "    return next.value.response;\n",
              "  });\n",
              "}\n",
              "\n",
              "/**\n",
              " * Generator function which is called between each async step of the upload\n",
              " * process.\n",
              " * @param {string} inputId Element ID of the input file picker element.\n",
              " * @param {string} outputId Element ID of the output display.\n",
              " * @return {!Iterable<!Object>} Iterable of next steps.\n",
              " */\n",
              "function* uploadFilesStep(inputId, outputId) {\n",
              "  const inputElement = document.getElementById(inputId);\n",
              "  inputElement.disabled = false;\n",
              "\n",
              "  const outputElement = document.getElementById(outputId);\n",
              "  outputElement.innerHTML = '';\n",
              "\n",
              "  const pickedPromise = new Promise((resolve) => {\n",
              "    inputElement.addEventListener('change', (e) => {\n",
              "      resolve(e.target.files);\n",
              "    });\n",
              "  });\n",
              "\n",
              "  const cancel = document.createElement('button');\n",
              "  inputElement.parentElement.appendChild(cancel);\n",
              "  cancel.textContent = 'Cancel upload';\n",
              "  const cancelPromise = new Promise((resolve) => {\n",
              "    cancel.onclick = () => {\n",
              "      resolve(null);\n",
              "    };\n",
              "  });\n",
              "\n",
              "  // Wait for the user to pick the files.\n",
              "  const files = yield {\n",
              "    promise: Promise.race([pickedPromise, cancelPromise]),\n",
              "    response: {\n",
              "      action: 'starting',\n",
              "    }\n",
              "  };\n",
              "\n",
              "  cancel.remove();\n",
              "\n",
              "  // Disable the input element since further picks are not allowed.\n",
              "  inputElement.disabled = true;\n",
              "\n",
              "  if (!files) {\n",
              "    return {\n",
              "      response: {\n",
              "        action: 'complete',\n",
              "      }\n",
              "    };\n",
              "  }\n",
              "\n",
              "  for (const file of files) {\n",
              "    const li = document.createElement('li');\n",
              "    li.append(span(file.name, {fontWeight: 'bold'}));\n",
              "    li.append(span(\n",
              "        `(${file.type || 'n/a'}) - ${file.size} bytes, ` +\n",
              "        `last modified: ${\n",
              "            file.lastModifiedDate ? file.lastModifiedDate.toLocaleDateString() :\n",
              "                                    'n/a'} - `));\n",
              "    const percent = span('0% done');\n",
              "    li.appendChild(percent);\n",
              "\n",
              "    outputElement.appendChild(li);\n",
              "\n",
              "    const fileDataPromise = new Promise((resolve) => {\n",
              "      const reader = new FileReader();\n",
              "      reader.onload = (e) => {\n",
              "        resolve(e.target.result);\n",
              "      };\n",
              "      reader.readAsArrayBuffer(file);\n",
              "    });\n",
              "    // Wait for the data to be ready.\n",
              "    let fileData = yield {\n",
              "      promise: fileDataPromise,\n",
              "      response: {\n",
              "        action: 'continue',\n",
              "      }\n",
              "    };\n",
              "\n",
              "    // Use a chunked sending to avoid message size limits. See b/62115660.\n",
              "    let position = 0;\n",
              "    do {\n",
              "      const length = Math.min(fileData.byteLength - position, MAX_PAYLOAD_SIZE);\n",
              "      const chunk = new Uint8Array(fileData, position, length);\n",
              "      position += length;\n",
              "\n",
              "      const base64 = btoa(String.fromCharCode.apply(null, chunk));\n",
              "      yield {\n",
              "        response: {\n",
              "          action: 'append',\n",
              "          file: file.name,\n",
              "          data: base64,\n",
              "        },\n",
              "      };\n",
              "\n",
              "      let percentDone = fileData.byteLength === 0 ?\n",
              "          100 :\n",
              "          Math.round((position / fileData.byteLength) * 100);\n",
              "      percent.textContent = `${percentDone}% done`;\n",
              "\n",
              "    } while (position < fileData.byteLength);\n",
              "  }\n",
              "\n",
              "  // All done.\n",
              "  yield {\n",
              "    response: {\n",
              "      action: 'complete',\n",
              "    }\n",
              "  };\n",
              "}\n",
              "\n",
              "scope.google = scope.google || {};\n",
              "scope.google.colab = scope.google.colab || {};\n",
              "scope.google.colab._files = {\n",
              "  _uploadFiles,\n",
              "  _uploadFilesContinue,\n",
              "};\n",
              "})(self);\n",
              "</script> "
            ]
          },
          "metadata": {}
        },
        {
          "output_type": "stream",
          "name": "stdout",
          "text": [
            "Saving credit_data_final.csv to credit_data_final.csv\n"
          ]
        }
      ]
    },
    {
      "cell_type": "code",
      "source": [
        "import pandas as pd\n",
        "import numpy as np\n",
        "\n",
        "df = pd.read_csv('credit_data_final.csv')\n",
        "\n",
        "y_value = df['class'] # set the y\n",
        "y_values = np.ravel(y_value) # change to an array (list)\n",
        "\n",
        "x_values = df.drop('class', axis=1) # drop the y from the dataframe\n",
        "\n",
        "# split data into training and test\n",
        "from sklearn.model_selection  import train_test_split\n",
        "X_train, X_test, Y_train, Y_test = train_test_split(x_values, y_value, test_size = 0.2, random_state=4567, stratify=y_value)\n",
        "\n",
        "# print the shapes to check everything is OK\n",
        "print(X_train.shape)\n",
        "print(X_test.shape)\n",
        "print(Y_train.shape)\n",
        "print(Y_test.shape)"
      ],
      "metadata": {
        "colab": {
          "base_uri": "https://localhost:8080/"
        },
        "id": "C5ihqxRoaOhD",
        "outputId": "39af8152-1971-4df4-e236-ded15b9e3166"
      },
      "execution_count": 2,
      "outputs": [
        {
          "output_type": "stream",
          "name": "stdout",
          "text": [
            "(800, 28)\n",
            "(200, 28)\n",
            "(800,)\n",
            "(200,)\n"
          ]
        }
      ]
    },
    {
      "cell_type": "markdown",
      "source": [
        "## Modeling and Evaluation\n",
        "We will set up algorithms for logistic regression (the previous winner) and then our new algorithms.\n",
        "\n",
        "Just to look at the impact of hyperparameter optimisation, we will set them up initially with default hyperparameters and compare their performance (on the training data):"
      ],
      "metadata": {
        "id": "ZKfCtNgkbJx-"
      }
    },
    {
      "cell_type": "code",
      "source": [
        "from sklearn.linear_model import LogisticRegression as LogR\n",
        "from sklearn.ensemble import RandomForestClassifier as RF\n",
        "from sklearn.ensemble import GradientBoostingClassifier as GBDT\n",
        "from xgboost import XGBClassifier as XGB\n",
        "from sklearn.metrics import precision_recall_fscore_support\n",
        "\n",
        "LogR_algo = LogR()\n",
        "LogR_model = LogR_algo.fit(X_train, Y_train)\n",
        "\n",
        "RF_algo = RF()\n",
        "RF_model = RF_algo.fit(X_train, Y_train)\n",
        "\n",
        "GBDT_algo = GBDT()\n",
        "GBDT_model = GBDT_algo.fit(X_train, Y_train)\n",
        "\n",
        "XGB_algo = XGB()\n",
        "XGB_model = XGB_algo.fit(X_train, Y_train)\n",
        "\n",
        "models = [LogR_model, RF_model, GBDT_model, XGB_model]\n",
        "names = ['Logistic Regression', 'Random Forest', 'GBDT', 'XGBDT']\n",
        "\n",
        "for i in range(4):\n",
        "  print(f\"Model: {names[i]}\")\n",
        "\n",
        "  # predict based on training data\n",
        "  predict = models[i].predict(X_train)\n",
        "\n",
        "  # Calculate precision, recall, and F1-score\n",
        "  precision, recall, f1_score, _ = precision_recall_fscore_support(Y_train, predict, average='macro')\n",
        "  print(f\"Macro Precision: {precision}\")\n",
        "  print(f\"Macro Recall: {recall}\")\n",
        "  print(f\"Macro F1-score: {f1_score}\")\n",
        "  print(\"\\n\")\n"
      ],
      "metadata": {
        "colab": {
          "base_uri": "https://localhost:8080/"
        },
        "id": "EXShsbWCctwX",
        "outputId": "bbdb341a-d9c4-4810-bcba-4f6aa7a26f89"
      },
      "execution_count": 3,
      "outputs": [
        {
          "output_type": "stream",
          "name": "stdout",
          "text": [
            "Model: Logistic Regression\n",
            "Macro Precision: 0.695493494128848\n",
            "Macro Recall: 0.6145833333333334\n",
            "Macro F1-score: 0.6216980598450139\n",
            "\n",
            "\n",
            "Model: Random Forest\n",
            "Macro Precision: 1.0\n",
            "Macro Recall: 1.0\n",
            "Macro F1-score: 1.0\n",
            "\n",
            "\n",
            "Model: GBDT\n",
            "Macro Precision: 0.8959161405969917\n",
            "Macro Recall: 0.8401785714285714\n",
            "Macro F1-score: 0.8614536616244558\n",
            "\n",
            "\n",
            "Model: XGBDT\n",
            "Macro Precision: 1.0\n",
            "Macro Recall: 1.0\n",
            "Macro F1-score: 1.0\n",
            "\n",
            "\n"
          ]
        }
      ]
    },
    {
      "cell_type": "markdown",
      "source": [
        "Random Forest and XGBDT score perfectly - but is it overfitting? Let's hyperparameter tune them and see the scores again (on training data):"
      ],
      "metadata": {
        "id": "OnwUdBfsdT1-"
      }
    },
    {
      "cell_type": "code",
      "source": [
        "from sklearn.model_selection import RandomizedSearchCV\n",
        "from scipy.stats import uniform, randint\n",
        "\n",
        "# we get a load of warnings running the code so will supress them\n",
        "import warnings\n",
        "warnings.filterwarnings(\"ignore\")\n",
        "\n",
        "# create a hyperparameter search function for re-usability\n",
        "def random_search(algo, hyperparameters, X_train, Y_train):\n",
        "  # do the search using 5 folds/chunks\n",
        "  clf = RandomizedSearchCV(algo, hyperparameters, cv=5, random_state=2015,\n",
        "                          scoring='precision_macro', n_iter=20, refit=True)\n",
        "\n",
        "  # pass the data to fit/train\n",
        "  clf.fit(X_train, Y_train)\n",
        "\n",
        "  return clf.best_params_\n",
        "\n",
        "# Logistic Regression\n",
        "LogR_tuned_parameters = {\n",
        "    'solver': ['liblinear'], # only this one as it does both L1 and L2\n",
        "    'C': uniform(loc=0.1, scale=19.9),  # Draw from a uniform distribution between 0.1 and 20\n",
        "    'penalty': ['l1', 'l2', 'elasticnet', None]\n",
        "}\n",
        "\n",
        "LogR_best_params = random_search(LogR_algo, LogR_tuned_parameters, X_train, Y_train)\n",
        "\n",
        "\n",
        "# Random Forest\n",
        "RF_tuned_parameters = {\n",
        "    'n_estimators': randint(50, 500), # Draw from a uniform distribution between 50 and 500\n",
        "    'max_depth': randint(2, 7),  # Draw from a uniform distribution between 2 and 7\n",
        "    'min_samples_split': randint(2, 7),  # Draw from a uniform distribution between 2 and 7\n",
        "    'max_features': ['sqrt', 'log2', None]\n",
        "}\n",
        "\n",
        "RF_best_params = random_search(RF_algo, RF_tuned_parameters, X_train, Y_train)\n",
        "\n",
        "\n",
        "# GBDT\n",
        "GBDT_tuned_parameters = {\n",
        "    'n_estimators': randint(25, 250), # Draw from a uniform distribution between 50 and 500\n",
        "    'learning_rate': uniform(loc=0.01, scale=4.99),  # Draw from a uniform distribution between 0.01 and 5\n",
        "    'criterion': ['friedman_mse', 'squared_error'],\n",
        "    'max_depth': randint(2, 7)  # Draw from a uniform distribution between 2 and 7\n",
        "}\n",
        "\n",
        "GBDT_best_params = random_search(GBDT_algo, GBDT_tuned_parameters, X_train, Y_train)\n",
        "\n",
        "\n",
        "# XGBDT\n",
        "XGB_tuned_parameters = {\n",
        "    'n_estimators': randint(25, 250), # Draw from a uniform distribution between 50 and 500\n",
        "    # eta is learning rate\n",
        "    'eta': uniform(loc=0.01, scale=4.99),  # Draw from a uniform distribution between 0.01 and 5\n",
        "    # objective is the same as criterion\n",
        "    'objective': ['binary:logistic', 'binary:hinge'],\n",
        "    'max_depth': randint(2, 7)  # Draw from a uniform distribution between 2 and 7\n",
        "}\n",
        "\n",
        "XGB_best_params = random_search(XGB_algo, XGB_tuned_parameters, X_train, Y_train)\n",
        "\n",
        "\n",
        "# Train the models\n",
        "LogR_algo = LogR(**LogR_best_params)\n",
        "LogR_model = LogR_algo.fit(X_train, Y_train)\n",
        "\n",
        "RF_algo = RF(**RF_best_params)\n",
        "RF_model = RF_algo.fit(X_train, Y_train)\n",
        "\n",
        "GBDT_algo = GBDT(**GBDT_best_params)\n",
        "GBDT_model = GBDT_algo.fit(X_train, Y_train)\n",
        "\n",
        "XGB_algo = XGB(**XGB_best_params)\n",
        "XGB_model = XGB_algo.fit(X_train, Y_train)\n",
        "\n",
        "\n",
        "# score the models\n",
        "models = [LogR_model, RF_model, GBDT_model, XGB_model] # redo this or it uses the old models\n",
        "\n",
        "for i in range(4):\n",
        "  print(f\"Model: {names[i]}\")\n",
        "\n",
        "  # predict based on training data\n",
        "  predict = models[i].predict(X_train)\n",
        "\n",
        "  # Calculate precision, recall, and F1-score\n",
        "  precision, recall, f1_score, _ = precision_recall_fscore_support(Y_train, predict, average='macro')\n",
        "  print(f\"Macro Precision: {precision}\")\n",
        "  print(f\"Macro Recall: {recall}\")\n",
        "  print(f\"Macro F1-score: {f1_score}\")\n",
        "  print(\"\\n\")"
      ],
      "metadata": {
        "colab": {
          "base_uri": "https://localhost:8080/"
        },
        "id": "VoeCpo9Wdns6",
        "outputId": "e8cdde2e-0a4b-4616-ca7a-109deda58230"
      },
      "execution_count": 4,
      "outputs": [
        {
          "output_type": "stream",
          "name": "stdout",
          "text": [
            "Model: Logistic Regression\n",
            "Macro Precision: 0.6981523631008166\n",
            "Macro Recall: 0.6211309523809524\n",
            "Macro F1-score: 0.629761289933129\n",
            "\n",
            "\n",
            "Model: Random Forest\n",
            "Macro Precision: 0.8553299492385786\n",
            "Macro Recall: 0.525\n",
            "Macro F1-score: 0.4630493146813622\n",
            "\n",
            "\n",
            "Model: GBDT\n",
            "Macro Precision: 1.0\n",
            "Macro Recall: 1.0\n",
            "Macro F1-score: 1.0\n",
            "\n",
            "\n",
            "Model: XGBDT\n",
            "Macro Precision: 0.6755175517551755\n",
            "Macro Recall: 0.7089285714285714\n",
            "Macro F1-score: 0.6633523839348625\n",
            "\n",
            "\n"
          ]
        }
      ]
    },
    {
      "cell_type": "markdown",
      "source": [
        "Our scores are ... not as reduced as last time. In fact GBDT went up to perfect. However, the real test is the score on our test data:"
      ],
      "metadata": {
        "id": "7yEN6ODyjnD3"
      }
    },
    {
      "cell_type": "code",
      "source": [
        "for i in range(4):\n",
        "  print(f\"Model: {names[i]}\")\n",
        "\n",
        "  # predict based on TEST data\n",
        "  predict = models[i].predict(X_test)\n",
        "\n",
        "  # Calculate precision, recall, and F1-score\n",
        "  precision, recall, f1_score, _ = precision_recall_fscore_support(Y_test, predict, average='macro')\n",
        "  print(f\"Macro Precision: {precision}\")\n",
        "  print(f\"Macro Recall: {recall}\")\n",
        "  print(f\"Macro F1-score: {f1_score}\")\n",
        "  print(\"\\n\")"
      ],
      "metadata": {
        "colab": {
          "base_uri": "https://localhost:8080/"
        },
        "id": "Vp6cSADFkEfb",
        "outputId": "938660e3-8311-46b6-bcfa-35762c82cd33"
      },
      "execution_count": 5,
      "outputs": [
        {
          "output_type": "stream",
          "name": "stdout",
          "text": [
            "Model: Logistic Regression\n",
            "Macro Precision: 0.6376488095238095\n",
            "Macro Recall: 0.5880952380952381\n",
            "Macro F1-score: 0.590626764539808\n",
            "\n",
            "\n",
            "Model: Random Forest\n",
            "Macro Precision: 0.8571428571428572\n",
            "Macro Recall: 0.5333333333333333\n",
            "Macro F1-score: 0.4791666666666667\n",
            "\n",
            "\n",
            "Model: GBDT\n",
            "Macro Precision: 0.7236705673233595\n",
            "Macro Recall: 0.6797619047619048\n",
            "Macro F1-score: 0.6927200810695957\n",
            "\n",
            "\n",
            "Model: XGBDT\n",
            "Macro Precision: 0.6095367299768868\n",
            "Macro Recall: 0.6297619047619047\n",
            "Macro F1-score: 0.5836652874508493\n",
            "\n",
            "\n"
          ]
        }
      ]
    },
    {
      "cell_type": "markdown",
      "source": [
        "Similar to last time, our best scorer for our prefered metric (_macro precision_) scores worse for everything else. We can make a good case to look further at both Random Forest and GBDT. So let's do that:"
      ],
      "metadata": {
        "id": "M3m661i8kROe"
      }
    },
    {
      "cell_type": "code",
      "source": [
        "from sklearn.metrics import ConfusionMatrixDisplay as CM\n",
        "\n",
        "# Random Forest\n",
        "print(\"Random Forest Confusion Matrix\")\n",
        "predict = RF_model.predict(X_test)\n",
        "CM.from_predictions(Y_test, predict)"
      ],
      "metadata": {
        "colab": {
          "base_uri": "https://localhost:8080/",
          "height": 490
        },
        "id": "h-T7gM1Okocz",
        "outputId": "7b4acac4-bc17-44ab-a578-734e38958e1f"
      },
      "execution_count": 6,
      "outputs": [
        {
          "output_type": "stream",
          "name": "stdout",
          "text": [
            "Random Forest Confusion Matrix\n"
          ]
        },
        {
          "output_type": "execute_result",
          "data": {
            "text/plain": [
              "<sklearn.metrics._plot.confusion_matrix.ConfusionMatrixDisplay at 0x7bc7267752d0>"
            ]
          },
          "metadata": {},
          "execution_count": 6
        },
        {
          "output_type": "display_data",
          "data": {
            "text/plain": [
              "<Figure size 640x480 with 2 Axes>"
            ],
            "image/png": "[encoded data removed]"
          },
          "metadata": {}
        }
      ]
    },
    {
      "cell_type": "code",
      "source": [
        "# GBDT\n",
        "print(\"GBDT Confusion Matrix\")\n",
        "predict = GBDT_model.predict(X_test)\n",
        "print(CM.from_predictions(Y_test, predict))"
      ],
      "metadata": {
        "colab": {
          "base_uri": "https://localhost:8080/",
          "height": 484
        },
        "id": "9a0qWs8tldCn",
        "outputId": "c1e6baa5-ab39-4968-8a06-d312a276f083"
      },
      "execution_count": 7,
      "outputs": [
        {
          "output_type": "stream",
          "name": "stdout",
          "text": [
            "GBDT Confusion Matrix\n",
            "<sklearn.metrics._plot.confusion_matrix.ConfusionMatrixDisplay object at 0x7bc7299abf10>\n"
          ]
        },
        {
          "output_type": "display_data",
          "data": {
            "text/plain": [
              "<Figure size 640x480 with 2 Axes>"
            ],
            "image/png": "[encoded data removed]"
          },
          "metadata": {}
        }
      ]
    },
    {
      "cell_type": "markdown",
      "source": [
        "Exactly as before we can see they are wrong in different ways. Because we care most about minimising cases we predict 0 (good to loan to) and in fact they are a 1 (bad to loan to), GBDT should be best. Random Forest misclassifies 52 cases in this way (more than Logistic Regression), while GBDT only 32.\n",
        "\n",
        "So GBDT is the winner.\n",
        "\n",
        "Overall this looks a much better model than last week. We have only 32 our of 160 of our loans actually a 0. However, can it be improved? We will look at this further in the coming weeks.\n",
        "\n"
      ],
      "metadata": {
        "id": "D1XukG16liI0"
      }
    }
  ]
}